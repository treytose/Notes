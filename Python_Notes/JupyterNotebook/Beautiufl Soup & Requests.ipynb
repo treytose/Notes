{
 "cells": [
  {
   "cell_type": "code",
   "execution_count": 1,
   "metadata": {
    "collapsed": true
   },
   "outputs": [],
   "source": [
    "from bs4 import BeautifulSoup\n",
    "import requests"
   ]
  },
  {
   "cell_type": "code",
   "execution_count": 2,
   "metadata": {
    "collapsed": true
   },
   "outputs": [],
   "source": [
    "def get_html(url):\n",
    "    return requests.get('http://' + url).text"
   ]
  },
  {
   "cell_type": "code",
   "execution_count": 5,
   "metadata": {
    "collapsed": true
   },
   "outputs": [],
   "source": [
    "soup = BeautifulSoup(get_html('treyholthe.com'), 'html.parser')"
   ]
  },
  {
   "cell_type": "code",
   "execution_count": 6,
   "metadata": {},
   "outputs": [
    {
     "data": {
      "text/plain": [
       "<!DOCTYPE html>\n",
       "\n",
       "<html lang=\"en\">\n",
       "<head>\n",
       "<title> Trey's Website </title>\n",
       "<meta charset=\"utf-8\"/>\n",
       "<meta content=\"width=device-width, initial-scale=1\" name=\"viewport\"/>\n",
       "<link href=\"https://maxcdn.bootstrapcdn.com/bootstrap/3.3.7/css/bootstrap.min.css\" rel=\"stylesheet\"/>\n",
       "<script src=\"https://ajax.googleapis.com/ajax/libs/jquery/3.2.1/jquery.min.js\"></script>\n",
       "<script src=\"https://maxcdn.bootstrapcdn.com/bootstrap/3.3.7/js/bootstrap.min.js\"></script>\n",
       "<link href=\"https://opensource.keycdn.com/fontawesome/4.7.0/font-awesome.min.css\" rel=\"stylesheet\">\n",
       "<style>\n",
       "\n",
       "\thtml{\n",
       "\t    height: 100%;\n",
       "\t}\n",
       "\tbody{\n",
       "\t\tbackground-image: url(\"homeBackground.jpg\");\n",
       "\t\tbackground-size: cover;\n",
       "\t\tbackground-position: center;\n",
       "\t\tfont-family: \"Montserrat\", \"Avenir\";\n",
       "\t}\n",
       "\th1{\n",
       "\t    text-shadow: 1px 1px 1px #000, 3px 3px 5px rgba(0, 0, 0, 0.4); \n",
       "\t    font-weight: 800;\n",
       "\t    line-height: 1.1;\n",
       "\t    text-transform: uppercase;\n",
       "\t    letter-spacing: 1.3px;\n",
       "\t}\n",
       "   \n",
       "    .navbar {\n",
       "      margin-bottom: 0;\n",
       "      border-radius: 0;\n",
       "    }\n",
       "    \n",
       "    \n",
       "    .row.content {height: 450px}\n",
       "   \n",
       "    .sidenav {\n",
       "      padding-top: 20px;\n",
       "      background-color: #f1f1f1;\n",
       "      height: 100%;\n",
       "    }\n",
       "    \n",
       "    iframe{\n",
       "        display: none;\n",
       "    }\n",
       "    \n",
       "    footer {\n",
       "      background-color: #555;\n",
       "      color: white;\n",
       "      padding: 15px;\n",
       "    }\n",
       "    \n",
       "    @media screen and (max-width: 767px) {\n",
       "      .sidenav {\n",
       "        height: auto;\n",
       "        padding: 15px;\n",
       "      }\n",
       "      .row.content {height:auto;} \n",
       "    }\n",
       "    .windowsBar{\n",
       "    \tposition: absolute;\n",
       "    \tbottom: 0;\n",
       "    \twidth: 100%;\n",
       "    \tbackground-color: red;\n",
       "    }\n",
       "    \n",
       "    .windowsElement{\n",
       "        visibility: hidden;\n",
       "    }\n",
       "    \n",
       "    .hidden{\n",
       "    \tvisibility: hidden;\n",
       "    }\n",
       "    \n",
       "    .desktopMode{\n",
       "        position: absolute;\n",
       "        right: 0;\n",
       "        padding: 30px;\n",
       "        margin: 10px;\n",
       "        background-color: #232323;\n",
       "        border-radius: 12px;\n",
       "        transition: all 1s;\n",
       "        opacity: 0;\n",
       "    }\n",
       "    .icon{\n",
       "        position: absolute;\n",
       "        margin-left: 15px;\n",
       "\t\n",
       "    }\n",
       "    .icon-image{\n",
       "        width: 65px;\n",
       "\theight: auto;\n",
       "    }\n",
       "\t\n",
       "  </style>\n",
       "</link></head>\n",
       "<body class=\"windows\">\n",
       "</body>\n",
       "<body class=\"main\">\n",
       "<nav class=\"navbar navbar-inverse home\">\n",
       "<div class=\"container-fluid\">\n",
       "<div class=\"navbar-header\">\n",
       "<button class=\"navbar-toggle\" data-target=\"#myNavbar\" data-toggle=\"collapse\" type=\"button\">\n",
       "<span class=\"icon-bar\"></span>\n",
       "<span class=\"icon-bar\"></span>\n",
       "<span class=\"icon-bar\"></span>\n",
       "</button>\n",
       "<a class=\"navbar-brand\" href=\"/\"><span class=\"glyphicon glyphicon-align-left\"> </span> Trey's Website</a>\n",
       "</div>\n",
       "<div class=\"collapse navbar-collapse\" id=\"myNavbar\">\n",
       "<ul class=\"nav navbar-nav\">\n",
       "<li class=\"active\"><a href=\"/\"> <span class=\"glyphicon glyphicon-home\"> </span> Home</a></li>\n",
       "<li><a href=\"#\"><span class=\"glyphicon glyphicon-education\"> </span>  About </a></li>\n",
       "<li><a href=\"#\"><span class=\"glyphicon glyphicon-equalizer\"> </span> Projects</a></li>\n",
       "<li><a href=\"list.html\"><span class=\"glyphicon glyphicon-align-justify\"></span> To-Do's </a> </li>\n",
       "<li><a href=\"games.html\"><span class=\"glyphicon glyphicon-knight\"> </span> Games</a></li>\n",
       "</ul>\n",
       "<ul class=\"nav navbar-nav navbar-right\">\n",
       "<li><a href=\"#\"><span class=\"glyphicon glyphicon-log-in\"></span> Login</a></li>\n",
       "</ul>\n",
       "</div>\n",
       "</div>\n",
       "</nav>\n",
       "<iframe allowfullscreen=\"\" frameborder=\"0\" height=\"480\" src=\"https://www.youtube.com/embed/5yge9_lRqJg?autoplay=1\" width=\"854\"></iframe>\n",
       "<div class=\"container text-center home\">\n",
       "<div class=\"row\">\n",
       "<div class=\"col-lg-12\">\n",
       "<h1 id=\"welcome\"> <span>W</span><span>e</span><span>l</span><span>c</span><span>o</span><span>m</span><span>e</span> <span>t</span><span>o</span> <span>T</span><span>r</span><span>e</span><span>y</span><span>'</span><span>s</span> <span>W</span><span>e</span><span>b</span><span>s</span><span>i</span><span>t</span><span>e</span>\n",
       "</h1>\n",
       "</div>\n",
       "</div>\n",
       "</div>\n",
       "<div class=\"desktopMode\">\n",
       "<button class=\"btn btn-danger\" id=\"windowsButton\" type=\"button\"> <i aria-hidden=\"true\" class=\"fa fa-exclamation-triangle\"></i> Don't Click! </button>\n",
       "</div>\n",
       "<div class=\"windowsBar windowsElement\">\n",
       "<img src=\"win10Bar.PNG\"/>\n",
       "</div>\n",
       "<div class=\"icon windowsElement\">\n",
       "<img class=\"icon-image\" src=\"firefox.png\"/>\n",
       "</div>\n",
       "<script>\n",
       "$(\"h1 span\").on(\"mouseover\", function(){\n",
       "    $(this).css(\"color\", \"rgb(\" + rand(255) + \", \" + rand(255) + \", \" + rand(255) + \")\");\n",
       "});\n",
       "\n",
       "function rand(max){\n",
       "    return Math.round(Math.random() * max).toString();\n",
       "}\n",
       "</script>\n",
       "<!-- Hiding -->\n",
       "<script>\n",
       "var visible = false;\n",
       "\n",
       "$(\".desktopMode\").on(\"mouseenter\", function(){\n",
       "        $(this).css(\"opacity\", \"1\");\n",
       "    });\n",
       "$(\".desktopMode\").on(\"mouseleave\", function(){\n",
       "\t$(this).css(\"opacity\", \"0\");\n",
       "    });\n",
       "    \n",
       "\n",
       "  $(\"#windowsButton\").on(\"click\", function(){\n",
       "    if(!visible){\n",
       "        $(\".windowsElement\").css(\"visibility\", \"visible\");\n",
       "        $(\".home\").css(\"visibility\", \"hidden\");\n",
       "     }\n",
       "    else{\n",
       "        $(\".windowsElement\").css(\"visibility\", \"hidden\");\n",
       "        $(\".home\").css(\"visibility\", \"visible\");\n",
       "    }\n",
       "        visible = !visible;\n",
       "        launchFullScreen(document.documentElement);\n",
       "    });\n",
       "</script>\n",
       "<script>\n",
       "function launchFullScreen(element) {\n",
       "  if(element.requestFullScreen) {\n",
       "    element.requestFullScreen();\n",
       "  } else if(element.mozRequestFullScreen) {\n",
       "    element.mozRequestFullScreen();\n",
       "  } else if(element.webkitRequestFullScreen) {\n",
       "    element.webkitRequestFullScreen();\n",
       "  }\n",
       "}\n",
       "</script>\n",
       "</body>\n",
       "</html>"
      ]
     },
     "execution_count": 6,
     "metadata": {},
     "output_type": "execute_result"
    }
   ],
   "source": [
    "soup"
   ]
  },
  {
   "cell_type": "code",
   "execution_count": 7,
   "metadata": {},
   "outputs": [
    {
     "data": {
      "text/plain": [
       "<title> Trey's Website </title>"
      ]
     },
     "execution_count": 7,
     "metadata": {},
     "output_type": "execute_result"
    }
   ],
   "source": [
    "soup.title"
   ]
  },
  {
   "cell_type": "code",
   "execution_count": 9,
   "metadata": {},
   "outputs": [
    {
     "data": {
      "text/plain": [
       "\" Trey's Website \""
      ]
     },
     "execution_count": 9,
     "metadata": {},
     "output_type": "execute_result"
    }
   ],
   "source": [
    "soup.title.string"
   ]
  },
  {
   "cell_type": "code",
   "execution_count": 10,
   "metadata": {},
   "outputs": [
    {
     "data": {
      "text/plain": [
       "<span class=\"icon-bar\"></span>"
      ]
     },
     "execution_count": 10,
     "metadata": {},
     "output_type": "execute_result"
    }
   ],
   "source": [
    "soup.span"
   ]
  },
  {
   "cell_type": "code",
   "execution_count": 12,
   "metadata": {},
   "outputs": [
    {
     "data": {
      "text/plain": [
       "[<a class=\"navbar-brand\" href=\"/\"><span class=\"glyphicon glyphicon-align-left\"> </span> Trey's Website</a>,\n",
       " <a href=\"/\"> <span class=\"glyphicon glyphicon-home\"> </span> Home</a>,\n",
       " <a href=\"#\"><span class=\"glyphicon glyphicon-education\"> </span>  About </a>,\n",
       " <a href=\"#\"><span class=\"glyphicon glyphicon-equalizer\"> </span> Projects</a>,\n",
       " <a href=\"list.html\"><span class=\"glyphicon glyphicon-align-justify\"></span> To-Do's </a>,\n",
       " <a href=\"games.html\"><span class=\"glyphicon glyphicon-knight\"> </span> Games</a>,\n",
       " <a href=\"#\"><span class=\"glyphicon glyphicon-log-in\"></span> Login</a>]"
      ]
     },
     "execution_count": 12,
     "metadata": {},
     "output_type": "execute_result"
    }
   ],
   "source": [
    "links = soup.find_all('a')\n",
    "links"
   ]
  },
  {
   "cell_type": "code",
   "execution_count": 23,
   "metadata": {},
   "outputs": [
    {
     "name": "stdout",
     "output_type": "stream",
     "text": [
      "['/', '/', '#', '#', 'list.html', 'games.html', '#']\n"
     ]
    }
   ],
   "source": [
    "print([link.get('href') for link in links])"
   ]
  },
  {
   "cell_type": "code",
   "execution_count": 25,
   "metadata": {},
   "outputs": [
    {
     "data": {
      "text/plain": [
       "'trey+holthe'"
      ]
     },
     "execution_count": 25,
     "metadata": {},
     "output_type": "execute_result"
    }
   ],
   "source": [
    "name = \"trey holthe\"\n",
    "'+'.join(name.split(' '))"
   ]
  },
  {
   "cell_type": "code",
   "execution_count": 26,
   "metadata": {
    "collapsed": true
   },
   "outputs": [],
   "source": [
    "def get_info(name):\n",
    "    html = requests.get('http://www.google.com/search?source=hp&q=' + '+'.join(name.split(' ')))\n",
    "    return BeautifulSoup(html.text, 'html.parser')"
   ]
  },
  {
   "cell_type": "code",
   "execution_count": 29,
   "metadata": {},
   "outputs": [
    {
     "data": {
      "text/plain": [
       "'<!DOCTYPE doctype html>\\n<html itemscope=\"\" itemtype=\"http://schema.org/SearchResultsPage\" lang=\"en\">\\n <head>\\n  <meta content=\"text/html; charset=utf-8\" http-equiv=\"Content-Type\"/>\\n  <meta content=\"/images/branding/googleg/1x/googleg_standard_color_128dp.png\" itemprop=\"image\"/>\\n  <link href=\"/images/branding/product/ico/googleg_lodp.ico\" rel=\"shortcut icon\"/>\\n  <title>\\n   trey holthe - Google Search\\n  </title>\\n  <style>\\n   #gbar,#guser{font-size:13px;padding-top:1px !important;}#gbar{height:22px}#guser{padding-bottom:7px !important;text-align:right}.gbh,.gbd{border-top:1px solid #c9d7f1;font-size:1px}.gbh{height:0;position:absolute;top:24px;width:100%}@media all{.gb1{height:22px;margin-right:.5em;vertical-align:top}#gbar{float:left}}a.gb1,a.gb4{text-decoration:underline !important}a.gb1,a.gb4{color:#00c !important}.gbi .gb4{color:#dd8e27 !important}.gbf .gb4{color:#900 !important}\\n  </style>\\n  <style>\\n   .star{float:left;margin-top:1px;overflow:hidden}._yhd{font-size:11px}.j{width:34em}body,td,div,.p,a{font-family:arial,sans-serif;tap-highlight-color:rgba(255,255,255,0)}body{margin:0}a img{border:0}#gbar{float:left;height:22px;padding-left:2px;font-size:13px}.gsfi,.gsfs{font-size:17px}.w,.q:active,.q:visited,.tbotu{color:#11c}a.gl{text-decoration:none}#foot{padding:0 8px}#foot a{white-space:nowrap}h3{font-size:16px;font-weight:normal;margin:0;padding:0}#res h3{display:inline}.hd{height:1px;position:absolute;top:-1000em}.g,body,html,table,.std{font-size:13px}.g{margin-bottom:23px;margin-top:0;zoom:1}ol li,ul li{list-style:none}h1,ol,ul,li{margin:0;padding:0}.e{margin:2px 0 0.75em}#leftnav a{text-decoration:none}#leftnav h2{color:#767676;font-weight:normal;margin:0}#nav{border-collapse:collapse;margin-top:17px;text-align:left}#nav td{text-align:center}.nobr{white-space:nowrap}.ts{border-collapse:collapse}.s br{display:none}.csb{display:block;height:40px}.images_table td{line-height:17px;padding-bottom:16px}.images_table img{border:1px solid #ccc;padding:1px}#tbd,#abd{display:block;min-height:1px}#abd{padding-top:3px}#tbd li{display:inline}._ITd,._JTd{margin-bottom:8px}#tbd .tbt li{display:block;font-size:13px;line-height:1.2;padding-bottom:3px;padding-left:8px;text-indent:-8px}.tbos,.b{font-weight:bold}em{font-weight:bold;font-style:normal}.mime{color:#1a0dab;font-weight:bold;font-size:x-small}.soc a{text-decoration:none}.soc{color:#808080}._kgd{color:#e7711b}#_vBb{border:1px solid #e0e0e0;margin-left:-8px;margin-right:-8px;padding:15px 20px 5px}._m3b{font-size:32px}._eGc{color:#777;font-size:16px;margin-top:5px}._H0d{color:#777;font-size:14px;margin-top:5px}._HLh{border:1px solid #e0e0e0;padding-left:20px}._Tki{border:1px solid #e0e0e0;padding:5px 20px}#vob{border:1px solid #e0e0e0;padding:15px 15px}#_Nyc{font-size:22px;line-height:22px;padding-bottom:5px}#vob_st{line-height:1.24}._Tsb{border-width:1px;border-style:solid;border-color:#eee;background-color:#fff;position:relative;margin-bottom:26px}._Peb,._Qeb,._Usb{font-family:Arial;font-weight:lighter}._Peb{margin-bottom:5px}._Peb{font-size:xx-large}._Qeb{font-size:medium}._Usb{font-size:small}._Tsb{margin-left:-8px;margin-right:-15px;padding:20px 20px 24px}._rOc{border-spacing:0px 2px}._sOc{max-width:380px;text-overflow:ellipsis;white-space:nowrap;overflow:hidden;padding-left:0px}._v9b{padding-left:15px;white-space:nowrap;color:#666}._pOc{padding-left:0px}._rkc{color:#212121}._HOb{color:#878787}._lMf{color:#093}._jMf{color:#c00}._kMf{padding:1px}._CKg{color:#dd4b39}.gssb_a{padding:0 10px !important}.gssb_c{left:132px !important;right:295px !important;top:78px !important;width:572px !important}.gssb_c table{font-size:16px !important}.gssb_e{border:1px solid #ccc !important;border-top-color:#d9d9d9 !important}.gssb_i{background:#eee !important}#res{padding:0 8px}#rhs_block{padding-top:43px}#_FQd{padding:0 8px}#subform_ctrl{font-size:11px;height:17px;margin:5px 3px 0 17px}.taf{padding-bottom:3px}._chd{padding:20px 0 3px}._bhd{padding:20px 0 3px}#topstuff .e{padding-bottom:6px}.slk .sld{width:250px}.slk{margin-bottom:-3px}.slk ._z3b{padding-bottom:5px;width:250px}.ac,.st{line-height:1.24}.mfr,#ofr{font-size:16px;margin:1em 0;padding:0 8px}._tLi{padding-bottom:25px}.s{color:#545454}.ac{color:#545454}a.fl,._cD a,.osl a{color:#1a0dab;text-decoration:none}a:link{color:#1a0dab;cursor:pointer}#tads a:link{color:#1a0dab}#tads .soc a:link{color:#808080}a:visited{color:#61C}.blg a{text-decoration:none}cite,cite a:link{color:#006621;font-style:normal}#tads cite{color:#006621}.kv{font-size:15px}.kvs{margin-top:1px}.kv,.kvs,.slp{display:block;margin-bottom:1px}.kt{border-spacing:2px 0;margin-top:1px}.f{color:#808080}._pJb{color:#093}h4.r{display:inline;font-size:small;font-weight:normal}.g{line-height:1.2}._sPb{display:inline-block;vertical-align:top;overflow:hidden;position:relative}._Gnc{margin:0 0 2em 1.3em}._Gnc li{list-style-type:disc}.osl{color:#777;margin-top:4px}.r{font-size:16px;margin:0}.spell{font-size:16px}.spell_orig{font-size:13px}.spell_orig a{text-decoration:none}.spell_orig b i{font-style:normal;font-weight:normal}.th{border:1px solid #ebebeb}.ts td{padding:0}.videobox{padding-bottom:3px}.slk a{text-decoration:none}#leftnav a:hover,#leftnav .tbou a:hover,.slk h3 a,a:hover{text-decoration:underline}#mn{table-layout:fixed;width:100%}#leftnav a{color:#222;font-size:13px}#leftnav{padding:43px 4px 4px 0}.tbos{color:#dd4b39}.tbt{margin-bottom:28px}#tbd{padding:0 0 0 16px}.tbou a{color:#222}#center_col{border:0;padding:0 8px 0 0}#topstuff .e{padding-top:3px}#topstuff .sp_cnt{padding-top:6px}#ab_name{color:#dd4b39;font:20px \"Arial\";margin-left:15px}#resultStats{color:#999;font-size:13px;overflow:hidden;white-space:nowrap}.mslg>td{padding-right:1px;padding-top:2px}.slk .sld{margin-top:2px;padding:5px 0 5px 5px}.fmp{padding-top:3px}.close_btn{overflow:hidden}#fll a,#bfl a{color:#1a0dab !important;margin:0 12px;text-decoration:none !important}.ng{color:#dd4b39}#mss{margin:.33em 0 0;padding:0;display:table}._mY{display:inline-block;float:left;white-space:nowrap;padding-right:16px}#mss p{margin:0;padding-top:5px}.tn{border-bottom:1px solid #ebebeb;display:block;float:left;height:59px;line-height:54px;min-width:980px;padding:0;position:relative;white-space:nowrap}._UXb,a._UXb{color:#777;cursor:pointer;display:inline-block;font-family:arial,sans-serif;font-size:small;height:54px;line-height:54px;margin:0 8px;padding:0 8px;text-decoration:none;white-space:nowrap}._Ihd{border-bottom:3px solid #dd4b39;color:#dd4b39;font-weight:bold;margin:2px 8px 0}a._Jhd:hover{color:black;text-decoration:none;white-space:nowrap}body{margin:0;padding:0}._sxc{display:inline-block;float:left;margin-top:2px}._Hhd,a._Hhd{margin-left:1px}.sd{line-height:43px;padding:0 8px 0 9px}a:active,.osl a:active,.tbou a:active,#leftnav a:active{color:#dd4b39}#bfl a:active{color:#dd4b39 !important}.csb{background:url(/images/nav_logo229.png) no-repeat;overflow:hidden}.close_btn{background:url(/images/nav_logo229.png) no-repeat -138px -84px;height:14px;width:14px;display:block}.star{background:url(/images/nav_logo229.png) no-repeat -94px -245px;height:13px;width:65px;display:block}.star div,.star span{background:url(/images/nav_logo229.png) no-repeat 0 -245px;height:13px;width:65px;display:block}._nBb{display:inline;margin:0 3px;outline-color:transparent;overflow:hidden;position:relative}._nBb>div{outline-color:transparent}._O0{border-color:transparent;border-style:solid dashed dashed;border-top-color:green;border-width:4px 4px 0 4px;cursor:pointer;display:inline-block;font-size:0;height:0;left:4px;line-height:0;outline-color:transparent;position:relative;top:-3px;width:0}._O0{margin-top:-4px}.am-dropdown-menu{display:block;background:#fff;border:1px solid #dcdcdc;font-size:13px;left:0;padding:0;position:absolute;right:auto;white-space:nowrap;z-index:3}._Ykb{list-style:none;white-space:nowrap}._Ykb:hover{background-color:#eee}a._Zkb{color:#333;cursor:pointer;display:block;padding:7px 18px;text-decoration:none}#tads a._Zkb{color:#333}.sfbgg{background:#f1f1f1;border-bottom:1px solid #e5e5e5;height:71px}#logocont{z-index:1;padding-left:4px;padding-top:4px}#logo{display:block;height:49px;margin-top:12px;margin-left:12px;overflow:hidden;position:relative;width:137px}#logo img{left:0;position:absolute;top:-41px}.lst-a{background:white;border:1px solid #d9d9d9;border-top-color:silver;width:570px}.lst-a:hover{border:1px solid #b9b9b9;border-top:1px solid #a0a0a0;box-shadow:inset 0 1px 2px rgba(0,0,0,0.1);-webkit-box-shadow:inset 0 1px 2px rgba(0,0,0,0.1);-moz-box-shadow:inset 0 1px 2px rgba(0,0,0,0.1)}.lst-td{border:none;padding:0}.tia input{border-right:none;padding-right:0}.tia{padding-right:0}.lst{background:none;border:none;color:#000;font:16px arial,sans-serif;float:left;height:22px;margin:0;padding:3px 6px 2px 9px;vertical-align:top;width:100%;word-break:break-all}.lst:focus{outline:none}.lst-b{background:none;border:none;height:26px;padding:0 6px 0 12px}.ds{border-right:1px solid #e7e7e7;position:relative;height:29px;margin-left:17px;z-index:100}.lsbb{background-image:-moz-linear-gradient(top,#4d90fe,#4787ed);background-image:-ms-linear-gradient(top,#4d90fe,#4787ed);background-image:-o-linear-gradient(top,#4d90fe,#4787ed);background-image:-webkit-gradient(linear,left top,left bottom,from(#4d90fe),to(#4787ed));background-image:-webkit-linear-gradient(top,#4d90fe,#4787ed);background-image:linear-gradient(top,#4d90fe,#4787ed);border:1px solid #3079ed;border-radius:2px;background-color:#4d90fe;height:27px;width:68px}.lsbb:hover{background-image:-moz-linear-gradient(top,#4d90fe,#357ae8);background-image:-ms-linear-gradient(top,#4d90fe,#357ae8);background-image:-o-linear-gradient(top,#4d90fe,#357ae8);background-image:-webkit-gradient(linear,left top,left bottom,from(#4d90fe),to(#357ae8));background-image:-webkit-linear-gradient(top,#4d90fe,#357ae8);background-color:#357ae8;background-image:linear-gradient(top,#4d90fe,#357ae8);border:1px solid #2f5bb7}.lsb{background:transparent;background-position:0 -343px;background-repeat:repeat-x;border:none;color:#000;cursor:default;font:15px arial,sans-serif;height:29px;margin:0;vertical-align:top;width:100%}.lsb:active{-moz-box-shadow:inset 0 1px 2px rgba(0,0,0,0.3);-webkit-box-shadow:inset 0 1px 2px rgba(0,0,0,0.3);box-shadow:inset 0 1px 2px rgba(0,0,0,0.3);background:transparent;color:transparent;overflow:hidden;position:relative;width:100%}.sbico{color:transparent;display:inline-block;height:15px;margin:0 auto;margin-top:2px;width:15px;overflow:hidden}\\n  </style>\\n  <script>\\n   (function(){window.google={kEI:\\'F1mqWYKdGMG4jwP-raKICg\\',kEXPI:\\'18168,20782,1352961,1353382,1353747,1354276,1354402,1354619,1354625,1354663,1354688,1354700,1354749,1354875,1355157,1355173,1355218,3700335,3700407,4029815,4031109,4040138,4043492,4045841,4048347,4072777,4076999,4078430,4081039,4081165,4093314,4095910,4097147,4097469,4097922,4097929,4097951,4098733,4098740,4098752,4099389,4102090,4102238,4102827,4103254,4103474,4103861,4104258,4106085,4107555,4108458,4109316,4109489,4110115,4110255,4110656,4113217,4114573,4115288,4115338,4115697,4116724,4116731,4116926,4116927,4116935,4117980,4118226,4118626,4118798,4119032,4119034,4119036,4119272,4119740,4120329,4120415,4120559,4120916,4121035,4121175,4121743,4121813,4122023,4122185,4123647,4123829,4123837,4123862,4124090,4124850,4125151,4125152,4125153,4125154,4125155,4125210,4125361,4125370,4125478,4125837,4125999,4126169,4126205,4126221,4126716,4126965,4127231,4127329,4127392,4127411,4127473,4127558,4127728,4128019,4128396,4128561,4128923,4128939,4129401,4129486,4129546,4129691,4129843,4130238,10200083,10200095,10201956\\',authuser:0,kscs:\\'c9c918f0_41\\',u:\\'c9c918f0\\'};google.kHL=\\'en\\';})();(function(){google.lc=[];google.li=0;google.getEI=function(a){for(var b;a&&(!a.getAttribute||!(b=a.getAttribute(\"eid\")));)a=a.parentNode;return b||google.kEI};google.getLEI=function(a){for(var b=null;a&&(!a.getAttribute||!(b=a.getAttribute(\"leid\")));)a=a.parentNode;return b};google.https=function(){return\"https:\"==window.location.protocol};google.ml=function(){return null};google.wl=function(a,b){try{google.ml(Error(a),!1,b)}catch(c){}};google.time=function(){return(new Date).getTime()};google.log=function(a,b,c,d,g){if(a=google.logUrl(a,b,c,d,g)){b=new Image;var e=google.lc,f=google.li;e[f]=b;b.onerror=b.onload=b.onabort=function(){delete e[f]};google.vel&&google.vel.lu&&google.vel.lu(a);b.src=a;google.li=f+1}};google.logUrl=function(a,b,c,d,g){var e=\"\",f=google.ls||\"\";c||-1!=b.search(\"&ei=\")||(e=\"&ei=\"+google.getEI(d),-1==b.search(\"&lei=\")&&(d=google.getLEI(d))&&(e+=\"&lei=\"+d));d=\"\";!c&&google.cached&&-1==b.search(\"&cached=\")&&(d=\"&cached=\"+google.cached);a=c||\"/\"+(g||\"gen_204\")+\"?atyp=i&ct=\"+a+\"&cad=\"+b+e+f+\"&zx=\"+google.time()+d;/^http:/i.test(a)&&google.https()&&(google.ml(Error(\"a\"),!1,{src:a,glmm:1}),a=\"\");return a};google.y={};google.x=function(a,b){if(a)var c=a.id;else{do c=Math.random();while(google.y[c])}google.y[c]=[a,b];return!1};google.lq=[];google.load=function(a,b,c){google.lq.push([[a],b,c])};google.loadAll=function(a,b){google.lq.push([a,b])};}).call(this);google.f={};(function(){var b={gen204:\"dcl\",clearcut:4};var c=[function(){google.c&&google.tick(\"load\",b)}];google.dcl=!1;google.dclc=function(a){google.dcl?a():c.push(a)};function d(){if(!google.dcl){google.dcl=!0;for(var a;a=c.shift();)a()}}window.addEventListener?(document.addEventListener(\"DOMContentLoaded\",d,!1),window.addEventListener(\"load\",d,!1)):window.attachEvent&&window.attachEvent(\"onload\",d);}).call(this);\\n  </script>\\n  <script type=\"text/javascript\">\\n  </script>\\n  <script>\\n   (function(){var a=function(f){for(var g=f.parentElement,d=null,e=0;e<g.childNodes.length;e++){var h=g.childNodes[e];-1<(\" \"+h.className+\" \").indexOf(\" am-dropdown-menu \")&&(d=h)}\"none\"==d.style.display?(d.style.display=\"\",google.log(\"hpam\",\"&ved=\"+f.getAttribute(\"data-ved\"))):d.style.display=\"none\"},b=[\"google\",\"sham\"],c=this;b[0]in c||!c.execScript||c.execScript(\"var \"+b[0]);for(var k;b.length&&(k=b.shift());)b.length||void 0===a?c[k]&&c[k]!==Object.prototype[k]?c=c[k]:c=c[k]={}:c[k]=a;}).call(this);\\n  </script>\\n </head>\\n <body bgcolor=\"#ffffff\" class=\"hsrp\" marginheight=\"0\" marginwidth=\"0\" topmargin=\"0\">\\n  <div id=\"gbar\">\\n   <nobr>\\n    <b class=\"gb1\">\\n     Search\\n    </b>\\n    <a class=\"gb1\" href=\"http://www.google.com/search?hl=en&amp;tbm=isch&amp;source=og&amp;tab=wi\">\\n     Images\\n    </a>\\n    <a class=\"gb1\" href=\"http://maps.google.com/maps?hl=en&amp;tab=wl\">\\n     Maps\\n    </a>\\n    <a class=\"gb1\" href=\"https://play.google.com/?hl=en&amp;tab=w8\">\\n     Play\\n    </a>\\n    <a class=\"gb1\" href=\"http://www.youtube.com/results?gl=US&amp;tab=w1\">\\n     YouTube\\n    </a>\\n    <a class=\"gb1\" href=\"http://news.google.com/nwshp?hl=en&amp;tab=wn\">\\n     News\\n    </a>\\n    <a class=\"gb1\" href=\"https://mail.google.com/mail/?tab=wm\">\\n     Gmail\\n    </a>\\n    <a class=\"gb1\" href=\"https://drive.google.com/?tab=wo\">\\n     Drive\\n    </a>\\n    <a class=\"gb1\" href=\"https://www.google.com/intl/en/options/\" style=\"text-decoration:none\">\\n     <u>\\n      More\\n     </u>\\n     »\\n    </a>\\n   </nobr>\\n  </div>\\n  <div id=\"guser\" width=\"100%\">\\n   <nobr>\\n    <span class=\"gbi\" id=\"gbn\">\\n    </span>\\n    <span class=\"gbf\" id=\"gbf\">\\n    </span>\\n    <span id=\"gbe\">\\n    </span>\\n    <a class=\"gb4\" href=\"http://www.google.com/history/optout?hl=en\">\\n     Web History\\n    </a>\\n    |\\n    <a class=\"gb4\" href=\"/preferences?hl=en\">\\n     Settings\\n    </a>\\n    |\\n    <a class=\"gb4\" href=\"https://accounts.google.com/ServiceLogin?hl=en&amp;passive=true&amp;continue=http://www.google.com/search%3Fsource%3Dhp%26q%3Dtrey%2Bholthe\" id=\"gb_70\" target=\"_top\">\\n     Sign in\\n    </a>\\n   </nobr>\\n  </div>\\n  <div class=\"gbh\" style=\"left:0\">\\n  </div>\\n  <div class=\"gbh\" style=\"right:0\">\\n  </div>\\n  <table border=\"0\" cellpadding=\"0\" cellspacing=\"0\" id=\"mn\" style=\"position:relative\">\\n   <tr>\\n    <th width=\"132\">\\n    </th>\\n    <th width=\"573\">\\n    </th>\\n    <th width=\"278\">\\n    </th>\\n    <th>\\n    </th>\\n   </tr>\\n   <tr>\\n    <td class=\"sfbgg\" valign=\"top\">\\n     <div id=\"logocont\">\\n      <h1>\\n       <a href=\"/webhp?hl=en\" id=\"logo\" style=\"background:url(/images/nav_logo229.png) no-repeat 0 -41px;height:37px;width:95px;display:block\" title=\"Go to Google Home\">\\n       </a>\\n      </h1>\\n     </div>\\n    </td>\\n    <td class=\"sfbgg\" colspan=\"2\" style=\"padding-left:0px\" valign=\"top\">\\n     <form action=\"/search\" id=\"tsf\" method=\"GET\" name=\"gs\" style=\"display:block;margin:0;background:none\">\\n      <table border=\"0\" cellpadding=\"0\" cellspacing=\"0\" style=\"margin-top:20px;position:relative\">\\n       <tr>\\n        <td>\\n         <div class=\"lst-a\">\\n          <table cellpadding=\"0\" cellspacing=\"0\">\\n           <tr>\\n            <td class=\"lst-td\" valign=\"bottom\" width=\"555\">\\n             <div style=\"position:relative;zoom:1\">\\n              <input autocomplete=\"off\" class=\"lst\" id=\"sbhost\" maxlength=\"2048\" name=\"q\" title=\"Search\" type=\"text\" value=\"trey holthe\"/>\\n             </div>\\n            </td>\\n           </tr>\\n          </table>\\n         </div>\\n        </td>\\n        <td>\\n         <div class=\"ds\">\\n          <div class=\"lsbb\">\\n           <button class=\"lsb\" name=\"btnG\" type=\"submit\" value=\"Search\">\\n            <span class=\"sbico\" style=\"background:url(/images/nav_logo229.png) no-repeat -36px -111px;height:14px;width:13px;display:block\">\\n            </span>\\n           </button>\\n          </div>\\n         </div>\\n        </td>\\n       </tr>\\n      </table>\\n     </form>\\n    </td>\\n    <td class=\"sfbgg\">\\n    </td>\\n   </tr>\\n   <tr style=\"position:relative\">\\n    <td>\\n     <div style=\"border-bottom:1px solid #ebebeb;height:59px\">\\n     </div>\\n    </td>\\n    <td colspan=\"2\">\\n     <div class=\"tn\">\\n      <div class=\"_UXb _Ihd _sxc _Hhd\">\\n       All\\n      </div>\\n      <div class=\"_sxc\">\\n       <a class=\"_UXb _Jhd\" href=\"/search?q=trey+holthe&amp;ie=UTF-8&amp;prmd=ivns&amp;source=lnms&amp;tbm=isch&amp;sa=X&amp;ved=0ahUKEwjChLXv-IXWAhVB3GMKHf6WCKEQ_AUIBQ\">\\n        Images\\n       </a>\\n      </div>\\n      <div class=\"_sxc\">\\n       <a class=\"_UXb _Jhd\" href=\"/search?q=trey+holthe&amp;ie=UTF-8&amp;prmd=ivns&amp;source=lnms&amp;tbm=vid&amp;sa=X&amp;ved=0ahUKEwjChLXv-IXWAhVB3GMKHf6WCKEQ_AUIBg\">\\n        Videos\\n       </a>\\n      </div>\\n      <div class=\"_sxc\">\\n       <a class=\"_UXb _Jhd\" href=\"/search?q=trey+holthe&amp;ie=UTF-8&amp;prmd=ivns&amp;source=lnms&amp;tbm=nws&amp;sa=X&amp;ved=0ahUKEwjChLXv-IXWAhVB3GMKHf6WCKEQ_AUIBw\">\\n        News\\n       </a>\\n      </div>\\n      <div class=\"_sxc\">\\n       <a class=\"_UXb _Jhd\" href=\"/search?q=trey+holthe&amp;ie=UTF-8&amp;prmd=ivns&amp;source=lnms&amp;tbm=shop&amp;sa=X&amp;ved=0ahUKEwjChLXv-IXWAhVB3GMKHf6WCKEQ_AUICA\">\\n        Shopping\\n       </a>\\n      </div>\\n      <div class=\"_sxc\">\\n       <a class=\"_UXb _Jhd\" href=\"http://maps.google.com/maps?q=trey+holthe&amp;um=1&amp;ie=UTF-8&amp;sa=X&amp;ved=0ahUKEwjChLXv-IXWAhVB3GMKHf6WCKEQ_AUICQ\">\\n        Maps\\n       </a>\\n      </div>\\n      <div class=\"_sxc\">\\n       <a class=\"_UXb _Jhd\" href=\"/search?q=trey+holthe&amp;ie=UTF-8&amp;prmd=ivns&amp;source=lnms&amp;tbm=bks&amp;sa=X&amp;ved=0ahUKEwjChLXv-IXWAhVB3GMKHf6WCKEQ_AUICg\">\\n        Books\\n       </a>\\n      </div>\\n     </div>\\n     <div style=\"border-bottom:1px solid #ebebeb;height:59px\">\\n     </div>\\n    </td>\\n    <td>\\n     <div style=\"border-bottom:1px solid #ebebeb;height:59px\">\\n     </div>\\n    </td>\\n   </tr>\\n   <tbody data-jibp=\"h\" data-jiis=\"uc\" id=\"desktop-search\">\\n    <style>\\n     ._Bu,._Bu a:link,._Bu a:visited,a._Bu:link,a._Bu:visited{color:#808080}._kBb{color:#61C}.ellip{overflow:hidden;text-overflow:ellipsis;white-space:nowrap}\\n    </style>\\n    <tr>\\n     <td id=\"leftnav\" valign=\"top\">\\n      <div>\\n       <h2 class=\"hd\">\\n        Search Options\\n       </h2>\\n       <ul class=\"med\" id=\"tbd\">\\n        <li>\\n         <ul class=\"tbt\">\\n          <li class=\"tbos\" id=\"qdr_\">\\n           Any time\\n          </li>\\n          <li class=\"tbou\" id=\"qdr_h\">\\n           <a class=\"q\" href=\"/search?q=trey+holthe&amp;ie=UTF-8&amp;prmd=ivns&amp;source=lnt&amp;tbs=qdr:h&amp;sa=X&amp;ved=0ahUKEwjChLXv-IXWAhVB3GMKHf6WCKEQpwUIDw\">\\n            Past hour\\n           </a>\\n          </li>\\n          <li class=\"tbou\" id=\"qdr_d\">\\n           <a class=\"q\" href=\"/search?q=trey+holthe&amp;ie=UTF-8&amp;prmd=ivns&amp;source=lnt&amp;tbs=qdr:d&amp;sa=X&amp;ved=0ahUKEwjChLXv-IXWAhVB3GMKHf6WCKEQpwUIDw\">\\n            Past 24 hours\\n           </a>\\n          </li>\\n          <li class=\"tbou\" id=\"qdr_w\">\\n           <a class=\"q\" href=\"/search?q=trey+holthe&amp;ie=UTF-8&amp;prmd=ivns&amp;source=lnt&amp;tbs=qdr:w&amp;sa=X&amp;ved=0ahUKEwjChLXv-IXWAhVB3GMKHf6WCKEQpwUIDw\">\\n            Past week\\n           </a>\\n          </li>\\n          <li class=\"tbou\" id=\"qdr_m\">\\n           <a class=\"q\" href=\"/search?q=trey+holthe&amp;ie=UTF-8&amp;prmd=ivns&amp;source=lnt&amp;tbs=qdr:m&amp;sa=X&amp;ved=0ahUKEwjChLXv-IXWAhVB3GMKHf6WCKEQpwUIDw\">\\n            Past month\\n           </a>\\n          </li>\\n          <li class=\"tbou\" id=\"qdr_y\">\\n           <a class=\"q\" href=\"/search?q=trey+holthe&amp;ie=UTF-8&amp;prmd=ivns&amp;source=lnt&amp;tbs=qdr:y&amp;sa=X&amp;ved=0ahUKEwjChLXv-IXWAhVB3GMKHf6WCKEQpwUIDw\">\\n            Past year\\n           </a>\\n          </li>\\n         </ul>\\n        </li>\\n        <li>\\n         <ul class=\"tbt\">\\n          <li class=\"tbos\" id=\"li_\">\\n           All results\\n          </li>\\n          <li class=\"tbou\" id=\"li_1\">\\n           <a class=\"q\" href=\"/search?q=trey+holthe&amp;ie=UTF-8&amp;prmd=ivns&amp;source=lnt&amp;tbs=li:1&amp;sa=X&amp;ved=0ahUKEwjChLXv-IXWAhVB3GMKHf6WCKEQpwUIDw\">\\n            Verbatim\\n           </a>\\n          </li>\\n         </ul>\\n        </li>\\n       </ul>\\n      </div>\\n     </td>\\n     <td valign=\"top\">\\n      <div id=\"center_col\">\\n       <div class=\"sd\" id=\"resultStats\">\\n        About 2,420 results\\n       </div>\\n       <div id=\"_FQd\" style=\"font-size:16px;margin-bottom:1em\">\\n        <div style=\"padding-bottom:1px\">\\n         <div id=\"mss\" style=\"clear:both;overflow:hidden\">\\n          <div class=\"spell ng\" style=\"margin-bottom:2px\">\\n           Did you mean:\\n          </div>\\n          <div class=\"_mY\" style=\"margin-bottom:1px\">\\n           <p>\\n            <a href=\"/search?q=trey+holt&amp;hl=en&amp;sa=X&amp;as_q=&amp;spell=1&amp;ved=0ahUKEwjChLXv-IXWAhVB3GMKHf6WCKEQBQgRKAA\">\\n             trey\\n             <b>\\n              <i>\\n               holt\\n              </i>\\n             </b>\\n            </a>\\n           </p>\\n          </div>\\n          <div class=\"_mY\" style=\"margin-bottom:1px\">\\n           <p>\\n            <a href=\"/search?q=trey+holtz&amp;hl=en&amp;sa=X&amp;as_q=&amp;spell=1&amp;ved=0ahUKEwjChLXv-IXWAhVB3GMKHf6WCKEQBQgSKAE\">\\n             trey\\n             <b>\\n              <i>\\n               holtz\\n              </i>\\n             </b>\\n            </a>\\n           </p>\\n          </div>\\n         </div>\\n        </div>\\n       </div>\\n       <div id=\"res\">\\n        <div id=\"topstuff\">\\n        </div>\\n        <div id=\"search\">\\n         <div id=\"ires\">\\n          <ol>\\n           <div class=\"g\">\\n            <h3 class=\"r\">\\n             <a href=\"/url?q=https://www.youtube.com/channel/UC_rRtfBQ01XyTHOo4nt4TDA&amp;sa=U&amp;ved=0ahUKEwjChLXv-IXWAhVB3GMKHf6WCKEQFggXMAA&amp;usg=AFQjCNEGylfcSKxnjkDaaXtw2rPNXB5mEw\">\\n              <b>\\n               Trey Holthe\\n              </b>\\n              - YouTube\\n             </a>\\n            </h3>\\n            <div class=\"s\">\\n             <div class=\"kv\" style=\"margin-bottom:2px\">\\n              <cite>\\n               https://www.youtube.com/channel/UC_rRtfBQ01XyTHOo4nt4TDA\\n              </cite>\\n              <div class=\"_nBb\">\\n               <div aria-expanded=\"false\" aria-haspopup=\"true\" data-ved=\"0ahUKEwjChLXv-IXWAhVB3GMKHf6WCKEQ7B0IGDAA\" onclick=\"google.sham(this);\" style=\"display:inline\" tabindex=\"0\">\\n                <span class=\"_O0\">\\n                </span>\\n               </div>\\n               <div class=\"am-dropdown-menu\" role=\"menu\" style=\"display:none\" tabindex=\"-1\">\\n                <ul>\\n                 <li class=\"_Ykb\">\\n                  <a class=\"_Zkb\" href=\"/url?q=http://webcache.googleusercontent.com/search%3Fq%3Dcache:5z2u_Bb922gJ:https://www.youtube.com/channel/UC_rRtfBQ01XyTHOo4nt4TDA%252Btrey%2Bholthe%26hl%3Den%26ct%3Dclnk&amp;sa=U&amp;ved=0ahUKEwjChLXv-IXWAhVB3GMKHf6WCKEQIAgaMAA&amp;usg=AFQjCNGZHmyFA3N_j7FsghB7fXIG-Vjp9g\">\\n                   Cached\\n                  </a>\\n                 </li>\\n                </ul>\\n               </div>\\n              </div>\\n             </div>\\n             <span class=\"st\">\\n              Zayik - WoD Warrior PvP - Duration: 8 minutes, 37 seconds. Zayik Gaming. 52\\n              <br/>\\n              views; 1 year ago. 7:06. Play next; Play now\\xa0...\\n             </span>\\n             <br/>\\n            </div>\\n           </div>\\n           <div class=\"g\">\\n            <h3 class=\"r\">\\n             <a href=\"/url?q=http://treyholthe.com/games.html&amp;sa=U&amp;ved=0ahUKEwjChLXv-IXWAhVB3GMKHf6WCKEQFggcMAE&amp;usg=AFQjCNFmllg4BgY55TG1FVbcJCerILgaZA\">\\n              <b>\\n               Trey Holthe\\n              </b>\\n              | Games - Trey\\'s Website\\n             </a>\\n            </h3>\\n            <div class=\"s\">\\n             <div class=\"kv\" style=\"margin-bottom:2px\">\\n              <cite>\\n               <b>\\n                treyholthe\\n               </b>\\n               .com/games.html\\n              </cite>\\n              <div class=\"_nBb\">\\n               <div aria-expanded=\"false\" aria-haspopup=\"true\" data-ved=\"0ahUKEwjChLXv-IXWAhVB3GMKHf6WCKEQ7B0IHTAB\" onclick=\"google.sham(this);\" style=\"display:inline\" tabindex=\"0\">\\n                <span class=\"_O0\">\\n                </span>\\n               </div>\\n               <div class=\"am-dropdown-menu\" role=\"menu\" style=\"display:none\" tabindex=\"-1\">\\n                <ul>\\n                 <li class=\"_Ykb\">\\n                  <a class=\"_Zkb\" href=\"/url?q=http://webcache.googleusercontent.com/search%3Fq%3Dcache:aKS8FyXLsT4J:http://treyholthe.com/games.html%252Btrey%2Bholthe%26hl%3Den%26ct%3Dclnk&amp;sa=U&amp;ved=0ahUKEwjChLXv-IXWAhVB3GMKHf6WCKEQIAgfMAE&amp;usg=AFQjCNHkVOdmG493K1gPYOHRjcsJFig73g\">\\n                   Cached\\n                  </a>\\n                 </li>\\n                </ul>\\n               </div>\\n              </div>\\n             </div>\\n             <span class=\"st\">\\n              Home; About; Projects; Games. Login. Number Wizard. My First Unity Game.\\n              <br/>\\n              Guess the RGB Color! Colors Game.\\n              <b>\\n               Trey Holthe\\n              </b>\\n              .\\n             </span>\\n             <br/>\\n            </div>\\n           </div>\\n           <div class=\"g\">\\n            <h3 class=\"r\">\\n             <a href=\"/url?q=http://treyholthe.com/&amp;sa=U&amp;ved=0ahUKEwjChLXv-IXWAhVB3GMKHf6WCKEQFgghMAI&amp;usg=AFQjCNHf2Itslyn5yhwixbgKX4Umdtautg\">\\n              <b>\\n               Trey\\'s\\n              </b>\\n              Website\\n             </a>\\n            </h3>\\n            <div class=\"s\">\\n             <div class=\"kv\" style=\"margin-bottom:2px\">\\n              <cite>\\n               <b>\\n                treyholthe\\n               </b>\\n               .com/\\n              </cite>\\n              <div class=\"_nBb\">\\n               <div aria-expanded=\"false\" aria-haspopup=\"true\" data-ved=\"0ahUKEwjChLXv-IXWAhVB3GMKHf6WCKEQ7B0IIjAC\" onclick=\"google.sham(this);\" style=\"display:inline\" tabindex=\"0\">\\n                <span class=\"_O0\">\\n                </span>\\n               </div>\\n               <div class=\"am-dropdown-menu\" role=\"menu\" style=\"display:none\" tabindex=\"-1\">\\n                <ul>\\n                 <li class=\"_Ykb\">\\n                  <a class=\"_Zkb\" href=\"/url?q=http://webcache.googleusercontent.com/search%3Fq%3Dcache:PwXsdGwponEJ:http://treyholthe.com/%252Btrey%2Bholthe%26hl%3Den%26ct%3Dclnk&amp;sa=U&amp;ved=0ahUKEwjChLXv-IXWAhVB3GMKHf6WCKEQIAgkMAI&amp;usg=AFQjCNFQNlmNwVDrHeaRUGSR3QmBfSDIIw\">\\n                   Cached\\n                  </a>\\n                 </li>\\n                </ul>\\n               </div>\\n              </div>\\n             </div>\\n             <span class=\"st\">\\n              <b>\\n               Trey\\'s\\n              </b>\\n              Website · Home; About; Projects; Games. Login. Welcome to Trey\\'s Websit\\n              <br/>\\n              e. Don\\'t Click!\\n             </span>\\n             <br/>\\n            </div>\\n           </div>\\n           <div class=\"g\">\\n            <h3 class=\"r\">\\n             <a href=\"/url?q=http://kingfisher.church/staff/nancy-holthe/&amp;sa=U&amp;ved=0ahUKEwjChLXv-IXWAhVB3GMKHf6WCKEQFggmMAM&amp;usg=AFQjCNE260suBXCZQsDukxvGhCTVwojZGA\">\\n              Nancy\\n              <b>\\n               Holthe\\n              </b>\\n              | First Baptist Church, Kingfisher\\n             </a>\\n            </h3>\\n            <div class=\"s\">\\n             <div class=\"kv\" style=\"margin-bottom:2px\">\\n              <cite>\\n               kingfisher.church/staff/nancy-\\n               <b>\\n                holthe\\n               </b>\\n               /\\n              </cite>\\n              <div class=\"_nBb\">\\n               <div aria-expanded=\"false\" aria-haspopup=\"true\" data-ved=\"0ahUKEwjChLXv-IXWAhVB3GMKHf6WCKEQ7B0IJzAD\" onclick=\"google.sham(this);\" style=\"display:inline\" tabindex=\"0\">\\n                <span class=\"_O0\">\\n                </span>\\n               </div>\\n               <div class=\"am-dropdown-menu\" role=\"menu\" style=\"display:none\" tabindex=\"-1\">\\n                <ul>\\n                 <li class=\"_Ykb\">\\n                  <a class=\"_Zkb\" href=\"/url?q=http://webcache.googleusercontent.com/search%3Fq%3Dcache:8CmzyCR2TlIJ:http://kingfisher.church/staff/nancy-holthe/%252Btrey%2Bholthe%26hl%3Den%26ct%3Dclnk&amp;sa=U&amp;ved=0ahUKEwjChLXv-IXWAhVB3GMKHf6WCKEQIAgpMAM&amp;usg=AFQjCNGSCjFqY7-BMD3X8UjcdWaYZGJXYQ\">\\n                   Cached\\n                  </a>\\n                 </li>\\n                </ul>\\n               </div>\\n              </div>\\n             </div>\\n             <span class=\"st\">\\n              Email. nancy@kingfisher.church. Date Arrived at FBCK. May 2005. Spouse.\\n              <br/>\\n              Lawrence Holthe. Children. Daughter, Lauren (Holthe) Grigg and son,\\n              <b>\\n               Trey\\n              </b>\\n              <br/>\\n              <b>\\n               Holthe\\n              </b>\\n              ...\\n             </span>\\n             <br/>\\n            </div>\\n           </div>\\n           <div class=\"g\">\\n            <h3 class=\"r\">\\n             <a href=\"/url?q=https://treyholthe.com.cutestat.com/&amp;sa=U&amp;ved=0ahUKEwjChLXv-IXWAhVB3GMKHf6WCKEQFggrMAQ&amp;usg=AFQjCNEFpCelCIXsU_sjQuPhTCbH65HCaQ\">\\n              Treyholthe :\\n              <b>\\n               Trey Holthe\\n              </b>\\n             </a>\\n            </h3>\\n            <div class=\"s\">\\n             <div class=\"kv\" style=\"margin-bottom:2px\">\\n              <cite>\\n               https://\\n               <b>\\n                treyholthe\\n               </b>\\n               .com.cutestat.com/\\n              </cite>\\n              <div class=\"_nBb\">\\n               <div aria-expanded=\"false\" aria-haspopup=\"true\" data-ved=\"0ahUKEwjChLXv-IXWAhVB3GMKHf6WCKEQ7B0ILDAE\" onclick=\"google.sham(this);\" style=\"display:inline\" tabindex=\"0\">\\n                <span class=\"_O0\">\\n                </span>\\n               </div>\\n               <div class=\"am-dropdown-menu\" role=\"menu\" style=\"display:none\" tabindex=\"-1\">\\n                <ul>\\n                 <li class=\"_Ykb\">\\n                  <a class=\"_Zkb\" href=\"/url?q=http://webcache.googleusercontent.com/search%3Fq%3Dcache:nCcTeoJAz2sJ:https://treyholthe.com.cutestat.com/%252Btrey%2Bholthe%26hl%3Den%26ct%3Dclnk&amp;sa=U&amp;ved=0ahUKEwjChLXv-IXWAhVB3GMKHf6WCKEQIAguMAQ&amp;usg=AFQjCNF1P9FRjxpb1MMTlaenFcFcgW_Ugw\">\\n                   Cached\\n                  </a>\\n                 </li>\\n                </ul>\\n               </div>\\n              </div>\\n             </div>\\n             <span class=\"st\">\\n              May 4, 2017\\n              <b>\\n               ...\\n              </b>\\n              treyholthe.com is 2 months 3 weeks old. It is a domain having .com extension.\\n              <br/>\\n              This website is estimated worth of $ 8.95 and have a daily\\xa0...\\n             </span>\\n             <br/>\\n            </div>\\n           </div>\\n           <div class=\"g\">\\n            <h3 class=\"r\">\\n             <a href=\"/search?q=trey+holthe&amp;ie=UTF-8&amp;prmd=ivns&amp;tbm=isch&amp;tbo=u&amp;source=univ&amp;sa=X&amp;ved=0ahUKEwjChLXv-IXWAhVB3GMKHf6WCKEQsAQIMQ\">\\n              Images for\\n              <b>\\n               trey holthe\\n              </b>\\n             </a>\\n            </h3>\\n            <br/>\\n            <div>\\n             <a href=\"/url?q=http://treyholthe.com/games.html&amp;sa=U&amp;ved=0ahUKEwjChLXv-IXWAhVB3GMKHf6WCKEQwW4IMzAF&amp;usg=AFQjCNFmllg4BgY55TG1FVbcJCerILgaZA\">\\n              <img align=\"middle\" alt=\"Image result for trey holthe\" height=\"90\" src=\"http://t0.gstatic.com/images?q=tbn:ANd9GcSu7HnxXsaRxx_EiynfFmTJjPK6Bx1x9x_jKDfyIx5k7mGWC92RMmoTMg\" style=\"margin:3px 0;margin-right:6px;padding:0\" title=\"http://treyholthe.com/games.html\" width=\"126\"/>\\n             </a>\\n             <a href=\"/url?q=http://kingfisher.church/staff/nancy-holthe/&amp;sa=U&amp;ved=0ahUKEwjChLXv-IXWAhVB3GMKHf6WCKEQwW4INTAG&amp;usg=AFQjCNE260suBXCZQsDukxvGhCTVwojZGA\">\\n              <img align=\"middle\" alt=\"Image result for trey holthe\" height=\"80\" src=\"http://t0.gstatic.com/images?q=tbn:ANd9GcSKVSiISQPZClXw3SZve1ppmV8qtsrEoY-m6pTCpyJh8lvUZB46a2y1A50\" style=\"margin:3px 0;margin-right:6px;padding:0\" title=\"http://kingfisher.church/staff/nancy-holthe/\" width=\"118\"/>\\n             </a>\\n             <a href=\"/url?q=http://treyholthe.com/games.html&amp;sa=U&amp;ved=0ahUKEwjChLXv-IXWAhVB3GMKHf6WCKEQwW4INzAH&amp;usg=AFQjCNFmllg4BgY55TG1FVbcJCerILgaZA\">\\n              <img align=\"middle\" alt=\"Image result for trey holthe\" height=\"90\" src=\"http://t0.gstatic.com/images?q=tbn:ANd9GcR0W2EHMDpht4OHU54vjF5zqIPVp1UN9WDtgNiOrWOBG2aLkK2CXdhH3rk\" style=\"margin:3px 0;margin-right:6px;padding:0\" title=\"http://treyholthe.com/games.html\" width=\"120\"/>\\n             </a>\\n             <a href=\"/url?q=http://codango.com/how-build-a-simple-html-form-using-php-and-mysql/&amp;sa=U&amp;ved=0ahUKEwjChLXv-IXWAhVB3GMKHf6WCKEQwW4IOTAI&amp;usg=AFQjCNGEMXsZLA7ISTESmwxb6KvnSoIuHQ\">\\n              <img align=\"middle\" alt=\"Image result for trey holthe\" height=\"68\" src=\"http://t0.gstatic.com/images?q=tbn:ANd9GcRSdL7QEUAE6zEardN2Yg4ARAomBpGslU5D8w8_B9s1NkeVuEQc8yB66ck\" style=\"margin:3px 0;margin-right:6px;padding:0\" title=\"http://codango.com/how-build-a-simple-html-form-using-php-and-mysql/\" width=\"120\"/>\\n             </a>\\n            </div>\\n           </div>\\n           <div class=\"g\">\\n            <h3 class=\"r\">\\n             <a href=\"/url?q=https://census-info.us/show/HOLTHE&amp;sa=U&amp;ved=0ahUKEwjChLXv-IXWAhVB3GMKHf6WCKEQFgg7MAk&amp;usg=AFQjCNHlpHHl6tX9CnF1nNGRdE0gvdtGnA\">\\n              <b>\\n               HOLTHE\\n              </b>\\n              - SHOWING ALL MATCHES :: Census Data Research Online\\n             </a>\\n            </h3>\\n            <div class=\"s\">\\n             <div class=\"kv\" style=\"margin-bottom:2px\">\\n              <cite>\\n               https://census-info.us/show/\\n               <b>\\n                HOLTHE\\n               </b>\\n              </cite>\\n              <div class=\"_nBb\">\\n               <div aria-expanded=\"false\" aria-haspopup=\"true\" data-ved=\"0ahUKEwjChLXv-IXWAhVB3GMKHf6WCKEQ7B0IPDAJ\" onclick=\"google.sham(this);\" style=\"display:inline\" tabindex=\"0\">\\n                <span class=\"_O0\">\\n                </span>\\n               </div>\\n               <div class=\"am-dropdown-menu\" role=\"menu\" style=\"display:none\" tabindex=\"-1\">\\n                <ul>\\n                 <li class=\"_Ykb\">\\n                  <a class=\"_Zkb\" href=\"/url?q=http://webcache.googleusercontent.com/search%3Fq%3Dcache:Y4hysWjUShgJ:https://census-info.us/show/HOLTHE%252Btrey%2Bholthe%26hl%3Den%26ct%3Dclnk&amp;sa=U&amp;ved=0ahUKEwjChLXv-IXWAhVB3GMKHf6WCKEQIAg-MAk&amp;usg=AFQjCNEpZcII_j0NIu19boy5FgGY6GzzAA\">\\n                   Cached\\n                  </a>\\n                 </li>\\n                </ul>\\n               </div>\\n              </div>\\n             </div>\\n             <span class=\"st\">\\n              ZULA HOLTHE as of: 19-JUN-2017, ZORAIDA HOLTHE as of: 24-NOV-2016 .....\\n              <br/>\\n              <b>\\n               TREY HOLTHE\\n              </b>\\n              as of: 22-JAN-2017, TREVOR HOLTHE as of: 14-JAN-2017.\\n             </span>\\n             <br/>\\n            </div>\\n           </div>\\n           <div class=\"g\">\\n            <span style=\"float:left\">\\n             <span class=\"mime\">\\n              [PDF]\\n             </span>\\n            </span>\\n            <h3 class=\"r\">\\n             <a href=\"/url?q=http://kingfisherpress.net/clients/kingfisherpress/0414140508b.pdf&amp;sa=U&amp;ved=0ahUKEwjChLXv-IXWAhVB3GMKHf6WCKEQFghAMAo&amp;usg=AFQjCNHuCA4QRy94-bqIaJhyGX-WMX4Jqg\">\\n              F&amp;M Bank Seniors... - Kingfisher Times and Free Press\\n             </a>\\n            </h3>\\n            <div class=\"s\">\\n             <div class=\"kv\" style=\"margin-bottom:2px\">\\n              <cite>\\n               kingfisherpress.net/clients/kingfisherpress/0414140508b.pdf\\n              </cite>\\n              <div class=\"_nBb\">\\n               <div aria-expanded=\"false\" aria-haspopup=\"true\" data-ved=\"0ahUKEwjChLXv-IXWAhVB3GMKHf6WCKEQ7B0IQTAK\" onclick=\"google.sham(this);\" style=\"display:inline\" tabindex=\"0\">\\n                <span class=\"_O0\">\\n                </span>\\n               </div>\\n               <div class=\"am-dropdown-menu\" role=\"menu\" style=\"display:none\" tabindex=\"-1\">\\n                <ul>\\n                 <li class=\"_Ykb\">\\n                  <a class=\"_Zkb\" href=\"/url?q=http://webcache.googleusercontent.com/search%3Fq%3Dcache:tSD4RCnYcaoJ:http://kingfisherpress.net/clients/kingfisherpress/0414140508b.pdf%252Btrey%2Bholthe%26hl%3Den%26ct%3Dclnk&amp;sa=U&amp;ved=0ahUKEwjChLXv-IXWAhVB3GMKHf6WCKEQIAhDMAo&amp;usg=AFQjCNFK0bm2_IP_0md0QHdETVD32Zop6A\">\\n                   Cached\\n                  </a>\\n                 </li>\\n                </ul>\\n               </div>\\n              </div>\\n             </div>\\n             <span class=\"st\">\\n              May 14, 2014\\n              <b>\\n               ...\\n              </b>\\n              <b>\\n               Trey Holthe\\n              </b>\\n              . Trey is the son of Otto and. Nancy Holthe. His hon- ors and activities\\n              <br/>\\n              include yearbook; FCCLA-2 years, and baseball-3 years. Trey.\\n             </span>\\n             <br/>\\n            </div>\\n           </div>\\n           <div class=\"g\">\\n            <span style=\"float:left\">\\n             <span class=\"mime\">\\n              [PDF]\\n             </span>\\n            </span>\\n            <h3 class=\"r\">\\n             <a href=\"/url?q=http://kingfisherpress.net/clients/kingfisherpress/011613scta0104.pdf&amp;sa=U&amp;ved=0ahUKEwjChLXv-IXWAhVB3GMKHf6WCKEQFghGMAs&amp;usg=AFQjCNHm5V7IhOz7O9zQaWnnOXpU5I4S1A\">\\n              Taxpayer dispute costs city over $300K - Kingfisher Times and Free ...\\n             </a>\\n            </h3>\\n            <div class=\"s\">\\n             <div class=\"kv\" style=\"margin-bottom:2px\">\\n              <cite>\\n               kingfisherpress.net/clients/kingfisherpress/011613scta0104.pdf\\n              </cite>\\n              <div class=\"_nBb\">\\n               <div aria-expanded=\"false\" aria-haspopup=\"true\" data-ved=\"0ahUKEwjChLXv-IXWAhVB3GMKHf6WCKEQ7B0IRzAL\" onclick=\"google.sham(this);\" style=\"display:inline\" tabindex=\"0\">\\n                <span class=\"_O0\">\\n                </span>\\n               </div>\\n               <div class=\"am-dropdown-menu\" role=\"menu\" style=\"display:none\" tabindex=\"-1\">\\n                <ul>\\n                 <li class=\"_Ykb\">\\n                  <a class=\"_Zkb\" href=\"/url?q=http://webcache.googleusercontent.com/search%3Fq%3Dcache:4UhRH7WOdJwJ:http://kingfisherpress.net/clients/kingfisherpress/011613scta0104.pdf%252Btrey%2Bholthe%26hl%3Den%26ct%3Dclnk&amp;sa=U&amp;ved=0ahUKEwjChLXv-IXWAhVB3GMKHf6WCKEQIAhJMAs&amp;usg=AFQjCNHZ6reDf8IqQeGPfokcoBUkewTCvQ\">\\n                   Cached\\n                  </a>\\n                 </li>\\n                </ul>\\n               </div>\\n              </div>\\n             </div>\\n             <span class=\"st\">\\n              Jan 16, 2013\\n              <b>\\n               ...\\n              </b>\\n              Oshman and Jessica Merveldt. Juniors – Natalie Alig,. Tommy Crews,\\n              <b>\\n               Trey\\n              </b>\\n              <br/>\\n              <b>\\n               Holthe\\n              </b>\\n              ,. Randi Hufnagel and Annie. Klefstad. Sophomores – Hunter.\\n             </span>\\n             <br/>\\n            </div>\\n           </div>\\n           <div class=\"g\">\\n            <h3 class=\"r\">\\n             <a href=\"/url?q=http://www.maxpreps.com/high-schools/okarche-warriors-(okarche,ok)/baseball-spring-12/roster.htm&amp;sa=U&amp;ved=0ahUKEwjChLXv-IXWAhVB3GMKHf6WCKEQFghMMAw&amp;usg=AFQjCNFMtOgLuo2YQRyZZB0JwjqX5Rx-zg\">\\n              Roster - Okarche Warriors 2012 Baseball | MaxPreps\\n             </a>\\n            </h3>\\n            <div class=\"s\">\\n             <div class=\"kv\" style=\"margin-bottom:2px\">\\n              <cite>\\n               www.maxpreps.com/high-schools/okarche-warriors.../roster.htm\\n              </cite>\\n              <div class=\"_nBb\">\\n               <div aria-expanded=\"false\" aria-haspopup=\"true\" data-ved=\"0ahUKEwjChLXv-IXWAhVB3GMKHf6WCKEQ7B0ITTAM\" onclick=\"google.sham(this);\" style=\"display:inline\" tabindex=\"0\">\\n                <span class=\"_O0\">\\n                </span>\\n               </div>\\n               <div class=\"am-dropdown-menu\" role=\"menu\" style=\"display:none\" tabindex=\"-1\">\\n                <ul>\\n                 <li class=\"_Ykb\">\\n                  <a class=\"_Zkb\" href=\"/url?q=http://webcache.googleusercontent.com/search%3Fq%3Dcache:3CPyXd3Al1gJ:http://www.maxpreps.com/high-schools/okarche-warriors-(okarche,ok)/baseball-spring-12/roster.htm%252Btrey%2Bholthe%26hl%3Den%26ct%3Dclnk&amp;sa=U&amp;ved=0ahUKEwjChLXv-IXWAhVB3GMKHf6WCKEQIAhPMAw&amp;usg=AFQjCNHN9lRuMeCdJIiJwCcnW-aVfOguKg\">\\n                   Cached\\n                  </a>\\n                 </li>\\n                </ul>\\n               </div>\\n              </div>\\n             </div>\\n             <span class=\"st\">\\n              14, Zac Kunneman, 3B, Jr. 16, Sam Grellner, C, Jr. 18, John Shaefer, OF, Jr. 20,\\n              <br/>\\n              <b>\\n               Trey Holthe\\n              </b>\\n              , So. 21, Eli Petty, OF, Jr. 30, Dillon Gilles, Jr. 31, Sawyer Morford, OF\\n              <br/>\\n              ...\\n             </span>\\n             <br/>\\n            </div>\\n           </div>\\n          </ol>\\n         </div>\\n        </div>\\n       </div>\\n      </div>\\n      <div id=\"foot\">\\n       <table align=\"center\" border=\"0\" cellpadding=\"0\" cellspacing=\"0\" id=\"nav\">\\n        <tr valign=\"top\">\\n         <td align=\"left\" class=\"b\">\\n          <span class=\"csb\" style=\"background-position:-24px 0;width:28px\">\\n          </span>\\n          <b>\\n          </b>\\n         </td>\\n         <td>\\n          <span class=\"csb\" style=\"background-position:-53px 0;width:20px\">\\n          </span>\\n          <b>\\n           1\\n          </b>\\n         </td>\\n         <td>\\n          <a class=\"fl\" href=\"/search?q=trey+holthe&amp;ie=UTF-8&amp;prmd=ivns&amp;ei=F1mqWYKdGMG4jwP-raKICg&amp;start=10&amp;sa=N\">\\n           <span class=\"csb\" style=\"background-position:-74px 0;width:20px\">\\n           </span>\\n           2\\n          </a>\\n         </td>\\n         <td>\\n          <a class=\"fl\" href=\"/search?q=trey+holthe&amp;ie=UTF-8&amp;prmd=ivns&amp;ei=F1mqWYKdGMG4jwP-raKICg&amp;start=20&amp;sa=N\">\\n           <span class=\"csb\" style=\"background-position:-74px 0;width:20px\">\\n           </span>\\n           3\\n          </a>\\n         </td>\\n         <td>\\n          <a class=\"fl\" href=\"/search?q=trey+holthe&amp;ie=UTF-8&amp;prmd=ivns&amp;ei=F1mqWYKdGMG4jwP-raKICg&amp;start=30&amp;sa=N\">\\n           <span class=\"csb\" style=\"background-position:-74px 0;width:20px\">\\n           </span>\\n           4\\n          </a>\\n         </td>\\n         <td>\\n          <a class=\"fl\" href=\"/search?q=trey+holthe&amp;ie=UTF-8&amp;prmd=ivns&amp;ei=F1mqWYKdGMG4jwP-raKICg&amp;start=40&amp;sa=N\">\\n           <span class=\"csb\" style=\"background-position:-74px 0;width:20px\">\\n           </span>\\n           5\\n          </a>\\n         </td>\\n         <td>\\n          <a class=\"fl\" href=\"/search?q=trey+holthe&amp;ie=UTF-8&amp;prmd=ivns&amp;ei=F1mqWYKdGMG4jwP-raKICg&amp;start=50&amp;sa=N\">\\n           <span class=\"csb\" style=\"background-position:-74px 0;width:20px\">\\n           </span>\\n           6\\n          </a>\\n         </td>\\n         <td>\\n          <a class=\"fl\" href=\"/search?q=trey+holthe&amp;ie=UTF-8&amp;prmd=ivns&amp;ei=F1mqWYKdGMG4jwP-raKICg&amp;start=60&amp;sa=N\">\\n           <span class=\"csb\" style=\"background-position:-74px 0;width:20px\">\\n           </span>\\n           7\\n          </a>\\n         </td>\\n         <td>\\n          <a class=\"fl\" href=\"/search?q=trey+holthe&amp;ie=UTF-8&amp;prmd=ivns&amp;ei=F1mqWYKdGMG4jwP-raKICg&amp;start=70&amp;sa=N\">\\n           <span class=\"csb\" style=\"background-position:-74px 0;width:20px\">\\n           </span>\\n           8\\n          </a>\\n         </td>\\n         <td>\\n          <a class=\"fl\" href=\"/search?q=trey+holthe&amp;ie=UTF-8&amp;prmd=ivns&amp;ei=F1mqWYKdGMG4jwP-raKICg&amp;start=80&amp;sa=N\">\\n           <span class=\"csb\" style=\"background-position:-74px 0;width:20px\">\\n           </span>\\n           9\\n          </a>\\n         </td>\\n         <td>\\n          <a class=\"fl\" href=\"/search?q=trey+holthe&amp;ie=UTF-8&amp;prmd=ivns&amp;ei=F1mqWYKdGMG4jwP-raKICg&amp;start=90&amp;sa=N\">\\n           <span class=\"csb\" style=\"background-position:-74px 0;width:20px\">\\n           </span>\\n           10\\n          </a>\\n         </td>\\n         <td class=\"b\" style=\"text-align:left\">\\n          <a class=\"fl\" href=\"/search?q=trey+holthe&amp;ie=UTF-8&amp;prmd=ivns&amp;ei=F1mqWYKdGMG4jwP-raKICg&amp;start=10&amp;sa=N\" style=\"text-align:left\">\\n           <span class=\"csb\" style=\"background-position:-96px 0;width:71px\">\\n           </span>\\n           <span style=\"display:block;margin-left:53px\">\\n            Next\\n           </span>\\n          </a>\\n         </td>\\n        </tr>\\n       </table>\\n       <p class=\"_cD\" id=\"bfl\" style=\"margin:19px 0 0;text-align:center\">\\n        <a href=\"/advanced_search?q=trey+holthe&amp;ie=UTF-8&amp;prmd=ivns\">\\n         Advanced search\\n        </a>\\n        <a href=\"/support/websearch/bin/answer.py?answer=134479&amp;hl=en\">\\n         Search Help\\n        </a>\\n        <a href=\"/tools/feedback/survey/html?productId=196&amp;query=trey+holthe&amp;hl=en\">\\n         Send feedback\\n        </a>\\n       </p>\\n       <div class=\"_cD\" id=\"fll\" style=\"margin:19px auto 19px auto;text-align:center\">\\n        <a href=\"/\">\\n         Google\\xa0Home\\n        </a>\\n        <a href=\"/intl/en/ads\">\\n         Advertising\\xa0Programs\\n        </a>\\n        <a href=\"/services\">\\n         Business Solutions\\n        </a>\\n        <a href=\"/intl/en/policies/privacy/\">\\n         Privacy\\n        </a>\\n        <a href=\"/intl/en/policies/terms/\">\\n         Terms\\n        </a>\\n        <a href=\"/intl/en/about.html\">\\n         About Google\\n        </a>\\n       </div>\\n      </div>\\n     </td>\\n     <td id=\"rhs_block\" valign=\"top\">\\n     </td>\\n    </tr>\\n   </tbody>\\n  </table>\\n  <script type=\"text/javascript\">\\n   (function(){var eventid=\\'F1mqWYKdGMG4jwP-raKICg\\';google.kEI = eventid;})();\\n  </script>\\n  <script src=\"/xjs/_/js/k=xjs.hp.en_US.mbPwRuDnBeg.O/m=sb_he,d/rt=j/d=1/t=zcms/rs=ACT90oHtk6JAh9ot36ZOgFEsyvyPNThsMw\">\\n  </script>\\n  <script type=\"text/javascript\">\\n   google.ac&&google.ac.c({\"agen\":false,\"cgen\":false,\"client\":\"heirloom-serp\",\"dh\":true,\"dhqt\":true,\"ds\":\"\",\"fl\":true,\"host\":\"google.com\",\"isbh\":28,\"jam\":0,\"jsonp\":true,\"msgs\":{\"cibl\":\"Clear Search\",\"dym\":\"Did you mean:\",\"lcky\":\"I\\\\u0026#39;m Feeling Lucky\",\"lml\":\"Learn more\",\"oskt\":\"Input tools\",\"psrc\":\"This search was removed from your \\\\u003Ca href=\\\\\"/history\\\\\"\\\\u003EWeb History\\\\u003C/a\\\\u003E\",\"psrl\":\"Remove\",\"sbit\":\"Search by image\",\"srch\":\"Google Search\"},\"nds\":true,\"ovr\":{},\"pq\":\"trey holthe\",\"refpd\":true,\"rfs\":[],\"sbpl\":24,\"sbpr\":24,\"scd\":10,\"sce\":5,\"stok\":\"D_fewNJ3wGwCFvYyZ23qOwbQ5Pk\"})\\n  </script>\\n  <script>\\n   (function(){window.google.cdo={height:0,width:0};(function(){var a=window.innerWidth,b=window.innerHeight;if(!a||!b){var c=window.document,d=\"CSS1Compat\"==c.compatMode?c.documentElement:c.body;a=d.clientWidth;b=d.clientHeight}a&&b&&(a!=google.cdo.width||b!=google.cdo.height)&&google.log(\"\",\"\",\"/client_204?&atyp=i&biw=\"+a+\"&bih=\"+b+\"&ei=\"+google.kEI);}).call(this);})();\\n  </script>\\n </body>\\n</html>'"
      ]
     },
     "execution_count": 29,
     "metadata": {},
     "output_type": "execute_result"
    }
   ],
   "source": [
    "soup = get_info('trey holthe')\n",
    "BeautifulSoup.prettify(soup)"
   ]
  },
  {
   "cell_type": "code",
   "execution_count": 58,
   "metadata": {},
   "outputs": [
    {
     "name": "stdout",
     "output_type": "stream",
     "text": [
      "68\n"
     ]
    }
   ],
   "source": [
    "links = soup.find_all('a')\n",
    "print(len(links))"
   ]
  },
  {
   "cell_type": "code",
   "execution_count": 59,
   "metadata": {},
   "outputs": [
    {
     "data": {
      "text/plain": [
       "'/url?q=https://www.youtube.com/channel/UC_rRtfBQ01XyTHOo4nt4TDA&sa=U&ved=0ahUKEwjChLXv-IXWAhVB3GMKHf6WCKEQFggXMAA&usg=AFQjCNEGylfcSKxnjkDaaXtw2rPNXB5mEw'"
      ]
     },
     "execution_count": 59,
     "metadata": {},
     "output_type": "execute_result"
    }
   ],
   "source": [
    "links = list(filter(lambda l: 'google' not in l.get('href'), links))\n",
    "links =[link.get('href') for link in links if 'url?q=' in link.get('href')]\n",
    "links[0]"
   ]
  },
  {
   "cell_type": "code",
   "execution_count": null,
   "metadata": {
    "collapsed": true
   },
   "outputs": [],
   "source": []
  }
 ],
 "metadata": {
  "kernelspec": {
   "display_name": "Python 3",
   "language": "python",
   "name": "python3"
  },
  "language_info": {
   "codemirror_mode": {
    "name": "ipython",
    "version": 3
   },
   "file_extension": ".py",
   "mimetype": "text/x-python",
   "name": "python",
   "nbconvert_exporter": "python",
   "pygments_lexer": "ipython3",
   "version": "3.6.1"
  }
 },
 "nbformat": 4,
 "nbformat_minor": 2
}

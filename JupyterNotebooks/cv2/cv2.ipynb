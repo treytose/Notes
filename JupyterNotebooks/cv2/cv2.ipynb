{
 "cells": [
  {
   "cell_type": "code",
   "execution_count": 61,
   "metadata": {},
   "outputs": [],
   "source": [
    "import sys\n",
    "sys.path.append(\"..\")\n",
    "import cv2, requests\n",
    "import numpy as np\n",
    "import matplotlib.pyplot as plt\n",
    "from skimage import measure"
   ]
  },
  {
   "cell_type": "code",
   "execution_count": 62,
   "metadata": {},
   "outputs": [],
   "source": [
    "img = cv2.imread(\"../data/data_img/path01.PNG\")"
   ]
  },
  {
   "cell_type": "code",
   "execution_count": 63,
   "metadata": {},
   "outputs": [
    {
     "data": {
      "text/plain": [
       "<matplotlib.image.AxesImage at 0x7f283d7a7cf8>"
      ]
     },
     "execution_count": 63,
     "metadata": {},
     "output_type": "execute_result"
    },
    {
     "data": {
      "image/png": "[encoded data removed]",
      "text/plain": [
       "<Figure size 432x288 with 1 Axes>"
      ]
     },
     "metadata": {
      "needs_background": "light"
     },
     "output_type": "display_data"
    }
   ],
   "source": [
    "plt.imshow(img)"
   ]
  },
  {
   "cell_type": "code",
   "execution_count": 64,
   "metadata": {},
   "outputs": [],
   "source": [
    "green_bound = [[0, 200, 0], [20, 255, 20]]\n",
    "lower = np.array(green_bound[0], dtype = \"uint8\")\n",
    "upper = np.array(green_bound[1], dtype = \"uint8\")\n"
   ]
  },
  {
   "cell_type": "code",
   "execution_count": 65,
   "metadata": {},
   "outputs": [
    {
     "data": {
      "text/plain": [
       "<matplotlib.image.AxesImage at 0x7f283d783f60>"
      ]
     },
     "execution_count": 65,
     "metadata": {},
     "output_type": "execute_result"
    },
    {
     "data": {
      "image/png": "[encoded data removed]",
      "text/plain": [
       "<Figure size 432x288 with 1 Axes>"
      ]
     },
     "metadata": {
      "needs_background": "light"
     },
     "output_type": "display_data"
    }
   ],
   "source": [
    "mask = cv2.inRange(img, lower, upper)\n",
    "masked_img = cv2.bitwise_and(img, img, mask = mask)\n",
    "plt.imshow(masked_img)"
   ]
  },
  {
   "cell_type": "code",
   "execution_count": 66,
   "metadata": {},
   "outputs": [
    {
     "data": {
      "text/plain": [
       "<matplotlib.image.AxesImage at 0x7f283d6e1cc0>"
      ]
     },
     "execution_count": 66,
     "metadata": {},
     "output_type": "execute_result"
    },
    {
     "data": {
      "image/png": "[encoded data removed]",
      "text/plain": [
       "<Figure size 432x288 with 1 Axes>"
      ]
     },
     "metadata": {
      "needs_background": "light"
     },
     "output_type": "display_data"
    }
   ],
   "source": [
    "masked_img = cv2.cvtColor(masked_img, cv2.COLOR_RGB2GRAY)\n",
    "plt.imshow(masked_img)"
   ]
  },
  {
   "cell_type": "code",
   "execution_count": 67,
   "metadata": {},
   "outputs": [],
   "source": [
    "contours, hierarchy = cv2.findContours(masked_img, cv2.RETR_TREE, cv2.CHAIN_APPROX_SIMPLE)"
   ]
  },
  {
   "cell_type": "code",
   "execution_count": 68,
   "metadata": {},
   "outputs": [],
   "source": [
    "positions = []\n",
    "for c in contours:\n",
    "    if cv2.contourArea(c) <= 50 :\n",
    "        continue    \n",
    "    x,y,w,h = cv2.boundingRect(c)\n",
    "    positions.append((x,y,w,h))\n",
    "    cv2.rectangle(img, (x, y), (x + w, y + h), (255,0,0), 2)\n",
    "    cv2.circle(img, (int(x+w/2), int(y+h/2)), 1, (0,0,255), 2) \n",
    "    center = (x,y)"
   ]
  },
  {
   "cell_type": "code",
   "execution_count": 69,
   "metadata": {},
   "outputs": [
    {
     "data": {
      "text/plain": [
       "<matplotlib.image.AxesImage at 0x7f283d6bcfd0>"
      ]
     },
     "execution_count": 69,
     "metadata": {},
     "output_type": "execute_result"
    },
    {
     "data": {
      "image/png": "[encoded data removed]",
      "text/plain": [
       "<Figure size 432x288 with 1 Axes>"
      ]
     },
     "metadata": {
      "needs_background": "light"
     },
     "output_type": "display_data"
    }
   ],
   "source": [
    "plt.imshow(img)"
   ]
  },
  {
   "cell_type": "code",
   "execution_count": 70,
   "metadata": {},
   "outputs": [
    {
     "data": {
      "text/plain": [
       "[(102, 461, 54, 54),\n",
       " (575, 438, 54, 54),\n",
       " (304, 377, 54, 54),\n",
       " (753, 367, 54, 54),\n",
       " (672, 274, 54, 54),\n",
       " (144, 246, 54, 54),\n",
       " (360, 120, 54, 54),\n",
       " (785, 103, 54, 54),\n",
       " (136, 60, 54, 54),\n",
       " (588, 49, 54, 54),\n",
       " (458, 29, 54, 54)]"
      ]
     },
     "execution_count": 70,
     "metadata": {},
     "output_type": "execute_result"
    }
   ],
   "source": [
    "positions"
   ]
  },
  {
   "cell_type": "code",
   "execution_count": 154,
   "metadata": {},
   "outputs": [
    {
     "data": {
      "text/plain": [
       "<matplotlib.image.AxesImage at 0x7f283c6d48d0>"
      ]
     },
     "execution_count": 154,
     "metadata": {},
     "output_type": "execute_result"
    },
    {
     "data": {
      "image/png": "[encoded data removed]",
      "text/plain": [
       "<Figure size 432x288 with 1 Axes>"
      ]
     },
     "metadata": {
      "needs_background": "light"
     },
     "output_type": "display_data"
    }
   ],
   "source": [
    "im2 = img.copy()\n",
    "sp = (360, 45, sq_width, sq_width)\n",
    "sq_width = 50\n",
    "cv2.rectangle(im2, (sp[0],sp[1]), (sp[0]+sp[2], sp[1]+sp[3]), (0,0,255), 2)\n",
    "plt.imshow(im2)"
   ]
  },
  {
   "cell_type": "code",
   "execution_count": 202,
   "metadata": {},
   "outputs": [],
   "source": [
    "def check_collision(rects, rect2):\n",
    "    for rect1 in rects:\n",
    "        if(rect1[0] < rect2[0] + rect2[2] and rect1[0] + rect1[2] > rect2[0] \n",
    "            and rect1[1] < rect2[1] + rect2[3] and rect1[1] + rect1[3] > rect2[1]):\n",
    "            return True\n",
    "    return False\n",
    "\n",
    "def get_open_tile(positions, rect):\n",
    "    tiles = {\n",
    "        \"right\": (rect[0] + sq_width, rect[1], rect[2], rect[3]),\n",
    "        \"left\":(rect[0] - sq_width, rect[1], rect[2], rect[3]),\n",
    "        \"down\": (rect[0], rect[1]+sq_width, rect[2], rect[3]),\n",
    "        \"up\":(rect[0], rect[1]-sq_width, rect[2], rect[3])\n",
    "    }\n",
    "    for d,p in tiles.items():\n",
    "        if not check_collision(positions, p):\n",
    "            return p\n",
    "        else:\n",
    "            print(\"Cannot move \" + d)\n",
    "            \n",
    "def get_longest_path(positions, rect, limits={\"xMin\": 0, \"xMax\": 1000, \"yMin\": 0, \"yMax\": 520}):    \n",
    "    tiles = [\n",
    "        {\"key\": \"right\", \"pos\": [rect[0] + sq_width, rect[1], rect[2], rect[3]], \"posIdx\": 0, \"count\": 0, \"inc\": sq_width},\n",
    "        {\"key\": \"left\", \"pos\": [rect[0] - sq_width, rect[1], rect[2], rect[3]], \"posIdx\":0, \"count\": 0, \"inc\": -sq_width},\n",
    "        {\"key\": \"down\", \"pos\": [rect[0], rect[1]+sq_width, rect[2], rect[3]], \"posIdx\": 1, \"count\": 0, \"inc\": sq_width},\n",
    "        {\"key\": \"up\", \"pos\": [rect[0], rect[1]-sq_width, rect[2], rect[3]], \"posIdx\": 1, \"count\": 0, \"inc\": -sq_width}  \n",
    "    ]\n",
    "    \n",
    "    \n",
    "    for tile in tiles:\n",
    "        limit = 10   \n",
    "        tile_open = not check_collision(positions, tile[\"pos\"])\n",
    "        while tile_open and limit > 0:            \n",
    "            pos = tile[\"pos\"][:]\n",
    "            pos[tile[\"posIdx\"]] += tile[\"inc\"]\n",
    "            \n",
    "            if pos[0] < limits[\"xMax\"] and pos[0] > limits[\"xMin\"] and pos[1] < limits[\"yMax\"] and pos[1] > limits[\"yMin\"]:            \n",
    "                tile_open = not check_collision(positions, pos)\n",
    "            else:\n",
    "                tile_open = False\n",
    "            \n",
    "            if tile_open:\n",
    "                tile[\"count\"] += 1\n",
    "                tile[\"pos\"] = pos\n",
    "            \n",
    "            limit -= 1\n",
    "            \n",
    "    tiles = sorted(tiles, key=lambda x: x[\"count\"])\n",
    "    print(tiles)\n",
    "    return tiles[-1][\"pos\"]\n",
    "    \n",
    "    \n",
    "\n",
    "def draw_rect(img, rect):\n",
    "    img = cv2.rectangle(img, (rect[0],rect[1]), (rect[0]+rect[2], rect[1]+rect[3]), (255,150,0), 2)\n",
    "    return img"
   ]
  },
  {
   "cell_type": "code",
   "execution_count": 212,
   "metadata": {},
   "outputs": [
    {
     "name": "stdout",
     "output_type": "stream",
     "text": [
      "[{'key': 'right', 'pos': [410, 45, 50, 50], 'posIdx': 0, 'count': 0, 'inc': 50}, {'key': 'down', 'pos': [360, 95, 50, 50], 'posIdx': 1, 'count': 0, 'inc': 50}, {'key': 'up', 'pos': [360, -5, 50, 50], 'posIdx': 1, 'count': 0, 'inc': -50}, {'key': 'left', 'pos': [210, 45, 50, 50], 'posIdx': 0, 'count': 2, 'inc': -50}]\n"
     ]
    },
    {
     "data": {
      "text/plain": [
       "<matplotlib.image.AxesImage at 0x7f283bd34278>"
      ]
     },
     "execution_count": 212,
     "metadata": {},
     "output_type": "execute_result"
    },
    {
     "data": {
      "image/png": "[encoded data removed]",
      "text/plain": [
       "<Figure size 432x288 with 1 Axes>"
      ]
     },
     "metadata": {
      "needs_background": "light"
     },
     "output_type": "display_data"
    }
   ],
   "source": [
    "im_move = im2.copy()\n",
    "pos = get_longest_path(positions, sp)\n",
    "im_move = draw_rect(im_move, pos)\n",
    "plt.imshow(im_move)"
   ]
  },
  {
   "cell_type": "code",
   "execution_count": 213,
   "metadata": {},
   "outputs": [
    {
     "name": "stdout",
     "output_type": "stream",
     "text": [
      "[{'key': 'left', 'pos': [160, 45, 50, 50], 'posIdx': 0, 'count': 0, 'inc': -50}, {'key': 'up', 'pos': [210, -5, 50, 50], 'posIdx': 1, 'count': 0, 'inc': -50}, {'key': 'right', 'pos': [360, 45, 50, 50], 'posIdx': 0, 'count': 2, 'inc': 50}, {'key': 'down', 'pos': [210, 495, 50, 50], 'posIdx': 1, 'count': 8, 'inc': 50}]\n"
     ]
    },
    {
     "data": {
      "text/plain": [
       "<matplotlib.image.AxesImage at 0x7f283bd06cf8>"
      ]
     },
     "execution_count": 213,
     "metadata": {},
     "output_type": "execute_result"
    },
    {
     "data": {
      "image/png": "[encoded data removed]",
      "text/plain": [
       "<Figure size 432x288 with 1 Axes>"
      ]
     },
     "metadata": {
      "needs_background": "light"
     },
     "output_type": "display_data"
    }
   ],
   "source": [
    "pos = get_longest_path(positions, pos)\n",
    "im_move = draw_rect(im_move, pos)\n",
    "plt.imshow(im_move)"
   ]
  },
  {
   "cell_type": "code",
   "execution_count": 214,
   "metadata": {},
   "outputs": [
    {
     "name": "stdout",
     "output_type": "stream",
     "text": [
      "[{'key': 'left', 'pos': [160, 495, 50, 50], 'posIdx': 0, 'count': 0, 'inc': -50}, {'key': 'down', 'pos': [210, 545, 50, 50], 'posIdx': 1, 'count': 0, 'inc': 50}, {'key': 'up', 'pos': [210, 45, 50, 50], 'posIdx': 1, 'count': 8, 'inc': -50}, {'key': 'right', 'pos': [760, 495, 50, 50], 'posIdx': 0, 'count': 10, 'inc': 50}]\n"
     ]
    },
    {
     "data": {
      "text/plain": [
       "<matplotlib.image.AxesImage at 0x7f283bc638d0>"
      ]
     },
     "execution_count": 214,
     "metadata": {},
     "output_type": "execute_result"
    },
    {
     "data": {
      "image/png": "[encoded data removed]",
      "text/plain": [
       "<Figure size 432x288 with 1 Axes>"
      ]
     },
     "metadata": {
      "needs_background": "light"
     },
     "output_type": "display_data"
    }
   ],
   "source": [
    "pos = get_longest_path(positions, pos)\n",
    "im_move = draw_rect(im_move, pos)\n",
    "plt.imshow(im_move)"
   ]
  },
  {
   "cell_type": "code",
   "execution_count": 215,
   "metadata": {},
   "outputs": [
    {
     "name": "stdout",
     "output_type": "stream",
     "text": [
      "[{'key': 'down', 'pos': [760, 545, 50, 50], 'posIdx': 1, 'count': 0, 'inc': 50}, {'key': 'up', 'pos': [760, 445, 50, 50], 'posIdx': 1, 'count': 0, 'inc': -50}, {'key': 'right', 'pos': [960, 495, 50, 50], 'posIdx': 0, 'count': 3, 'inc': 50}, {'key': 'left', 'pos': [210, 495, 50, 50], 'posIdx': 0, 'count': 10, 'inc': -50}]\n"
     ]
    },
    {
     "data": {
      "text/plain": [
       "<matplotlib.image.AxesImage at 0x7f283bc41470>"
      ]
     },
     "execution_count": 215,
     "metadata": {},
     "output_type": "execute_result"
    },
    {
     "data": {
      "image/png": "[encoded data removed]",
      "text/plain": [
       "<Figure size 432x288 with 1 Axes>"
      ]
     },
     "metadata": {
      "needs_background": "light"
     },
     "output_type": "display_data"
    }
   ],
   "source": [
    "pos = get_longest_path(positions, pos)\n",
    "im_move = draw_rect(im_move, pos)\n",
    "plt.imshow(im_move)"
   ]
  },
  {
   "cell_type": "code",
   "execution_count": 216,
   "metadata": {},
   "outputs": [
    {
     "name": "stdout",
     "output_type": "stream",
     "text": [
      "[{'key': 'left', 'pos': [160, 495, 50, 50], 'posIdx': 0, 'count': 0, 'inc': -50}, {'key': 'down', 'pos': [210, 545, 50, 50], 'posIdx': 1, 'count': 0, 'inc': 50}, {'key': 'up', 'pos': [210, 45, 50, 50], 'posIdx': 1, 'count': 8, 'inc': -50}, {'key': 'right', 'pos': [760, 495, 50, 50], 'posIdx': 0, 'count': 10, 'inc': 50}]\n"
     ]
    },
    {
     "data": {
      "text/plain": [
       "<matplotlib.image.AxesImage at 0x7f283bba1080>"
      ]
     },
     "execution_count": 216,
     "metadata": {},
     "output_type": "execute_result"
    },
    {
     "data": {
      "image/png": "[encoded data removed]",
      "text/plain": [
       "<Figure size 432x288 with 1 Axes>"
      ]
     },
     "metadata": {
      "needs_background": "light"
     },
     "output_type": "display_data"
    }
   ],
   "source": [
    "pos = get_longest_path(positions, pos)\n",
    "im_move = draw_rect(im_move, pos)\n",
    "plt.imshow(im_move)"
   ]
  },
  {
   "cell_type": "code",
   "execution_count": null,
   "metadata": {},
   "outputs": [],
   "source": []
  }
 ],
 "metadata": {
  "kernelspec": {
   "display_name": "Python 3",
   "language": "python",
   "name": "python3"
  },
  "language_info": {
   "codemirror_mode": {
    "name": "ipython",
    "version": 3
   },
   "file_extension": ".py",
   "mimetype": "text/x-python",
   "name": "python",
   "nbconvert_exporter": "python",
   "pygments_lexer": "ipython3",
   "version": "3.6.1"
  }
 },
 "nbformat": 4,
 "nbformat_minor": 2
}

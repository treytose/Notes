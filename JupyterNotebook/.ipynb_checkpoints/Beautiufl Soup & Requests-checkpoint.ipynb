{
 "cells": [
  {
   "cell_type": "code",
   "execution_count": 1,
   "metadata": {},
   "outputs": [],
   "source": [
    "from bs4 import BeautifulSoup\n",
    "import requests"
   ]
  },
  {
   "cell_type": "code",
   "execution_count": 2,
   "metadata": {
    "collapsed": true
   },
   "outputs": [],
   "source": [
    "def get_html(url):\n",
    "    return requests.get('http://' + url).text"
   ]
  },
  {
   "cell_type": "code",
   "execution_count": 3,
   "metadata": {},
   "outputs": [],
   "source": [
    "soup = BeautifulSoup(get_html('treyholthe.com'), 'html.parser')"
   ]
  },
  {
   "cell_type": "code",
   "execution_count": 4,
   "metadata": {},
   "outputs": [
    {
     "data": {
      "text/plain": [
       "<!DOCTYPE html>\n",
       "\n",
       "<html lang=\"en\">\n",
       "<head>\n",
       "<title> Trey's Website </title>\n",
       "<meta charset=\"utf-8\"/>\n",
       "<meta content=\"width=device-width, initial-scale=1\" name=\"viewport\"/>\n",
       "<link href=\"https://maxcdn.bootstrapcdn.com/bootstrap/3.3.7/css/bootstrap.min.css\" rel=\"stylesheet\"/>\n",
       "<script src=\"https://ajax.googleapis.com/ajax/libs/jquery/3.2.1/jquery.min.js\"></script>\n",
       "<script src=\"https://maxcdn.bootstrapcdn.com/bootstrap/3.3.7/js/bootstrap.min.js\"></script>\n",
       "<link href=\"https://opensource.keycdn.com/fontawesome/4.7.0/font-awesome.min.css\" rel=\"stylesheet\">\n",
       "<style>\n",
       "\n",
       "\thtml{\n",
       "\t    height: 100%;\n",
       "\t}\n",
       "\tbody{\n",
       "\t\tbackground-image: url(\"homeBackground.jpg\");\n",
       "\t\tbackground-size: cover;\n",
       "\t\tbackground-position: center;\n",
       "\t\tfont-family: \"Montserrat\", \"Avenir\";\n",
       "\t}\n",
       "\th1{\n",
       "\t    text-shadow: 1px 1px 1px #000, 3px 3px 5px rgba(0, 0, 0, 0.4); \n",
       "\t    font-weight: 800;\n",
       "\t    line-height: 1.1;\n",
       "\t    text-transform: uppercase;\n",
       "\t    letter-spacing: 1.3px;\n",
       "\t}\n",
       "   \n",
       "    .navbar {\n",
       "      margin-bottom: 0;\n",
       "      border-radius: 0;\n",
       "    }\n",
       "    \n",
       "    \n",
       "    .row.content {height: 450px}\n",
       "   \n",
       "    .sidenav {\n",
       "      padding-top: 20px;\n",
       "      background-color: #f1f1f1;\n",
       "      height: 100%;\n",
       "    }\n",
       "    \n",
       "    iframe{\n",
       "        display: none;\n",
       "    }\n",
       "    \n",
       "    footer {\n",
       "      background-color: #555;\n",
       "      color: white;\n",
       "      padding: 15px;\n",
       "    }\n",
       "    \n",
       "    @media screen and (max-width: 767px) {\n",
       "      .sidenav {\n",
       "        height: auto;\n",
       "        padding: 15px;\n",
       "      }\n",
       "      .row.content {height:auto;} \n",
       "    }\n",
       "    .windowsBar{\n",
       "    \tposition: absolute;\n",
       "    \tbottom: 0;\n",
       "    \twidth: 100%;\n",
       "    \tbackground-color: red;\n",
       "    }\n",
       "    \n",
       "    .windowsElement{\n",
       "        visibility: hidden;\n",
       "    }\n",
       "    \n",
       "    .hidden{\n",
       "    \tvisibility: hidden;\n",
       "    }\n",
       "    \n",
       "    .desktopMode{\n",
       "        position: absolute;\n",
       "        right: 0;\n",
       "        padding: 30px;\n",
       "        margin: 10px;\n",
       "        background-color: #232323;\n",
       "        border-radius: 12px;\n",
       "        transition: all 1s;\n",
       "        opacity: 0;\n",
       "    }\n",
       "    .icon{\n",
       "        position: absolute;\n",
       "        margin-left: 15px;\n",
       "\t\n",
       "    }\n",
       "    .icon-image{\n",
       "        width: 65px;\n",
       "\theight: auto;\n",
       "    }\n",
       "\t\n",
       "  </style>\n",
       "</link></head>\n",
       "<body class=\"windows\">\n",
       "</body>\n",
       "<body class=\"main\">\n",
       "<nav class=\"navbar navbar-inverse home\">\n",
       "<div class=\"container-fluid\">\n",
       "<div class=\"navbar-header\">\n",
       "<button class=\"navbar-toggle\" data-target=\"#myNavbar\" data-toggle=\"collapse\" type=\"button\">\n",
       "<span class=\"icon-bar\"></span>\n",
       "<span class=\"icon-bar\"></span>\n",
       "<span class=\"icon-bar\"></span>\n",
       "</button>\n",
       "<a class=\"navbar-brand\" href=\"/\"><span class=\"glyphicon glyphicon-align-left\"> </span> Trey's Website</a>\n",
       "</div>\n",
       "<div class=\"collapse navbar-collapse\" id=\"myNavbar\">\n",
       "<ul class=\"nav navbar-nav\">\n",
       "<li class=\"active\"><a href=\"/\"> <span class=\"glyphicon glyphicon-home\"> </span> Home</a></li>\n",
       "<li><a href=\"#\"><span class=\"glyphicon glyphicon-education\"> </span>  About </a></li>\n",
       "<li><a href=\"#\"><span class=\"glyphicon glyphicon-equalizer\"> </span> Projects</a></li>\n",
       "<li><a href=\"list.html\"><span class=\"glyphicon glyphicon-align-justify\"></span> To-Do's </a> </li>\n",
       "<li><a href=\"games.html\"><span class=\"glyphicon glyphicon-knight\"> </span> Games</a></li>\n",
       "</ul>\n",
       "<ul class=\"nav navbar-nav navbar-right\">\n",
       "<li><a href=\"#\"><span class=\"glyphicon glyphicon-log-in\"></span> Login</a></li>\n",
       "</ul>\n",
       "</div>\n",
       "</div>\n",
       "</nav>\n",
       "<iframe allowfullscreen=\"\" frameborder=\"0\" height=\"480\" src=\"https://www.youtube.com/embed/5yge9_lRqJg?autoplay=1\" width=\"854\"></iframe>\n",
       "<div class=\"container text-center home\">\n",
       "<div class=\"row\">\n",
       "<div class=\"col-lg-12\">\n",
       "<h1 id=\"welcome\"> <span>W</span><span>e</span><span>l</span><span>c</span><span>o</span><span>m</span><span>e</span> <span>t</span><span>o</span> <span>T</span><span>r</span><span>e</span><span>y</span><span>'</span><span>s</span> <span>W</span><span>e</span><span>b</span><span>s</span><span>i</span><span>t</span><span>e</span>\n",
       "</h1>\n",
       "</div>\n",
       "</div>\n",
       "</div>\n",
       "<div class=\"desktopMode\">\n",
       "<button class=\"btn btn-danger\" id=\"windowsButton\" type=\"button\"> <i aria-hidden=\"true\" class=\"fa fa-exclamation-triangle\"></i> Don't Click! </button>\n",
       "</div>\n",
       "<div class=\"windowsBar windowsElement\">\n",
       "<img src=\"win10Bar.PNG\"/>\n",
       "</div>\n",
       "<div class=\"icon windowsElement\">\n",
       "<img class=\"icon-image\" src=\"firefox.png\"/>\n",
       "</div>\n",
       "<script>\n",
       "$(\"h1 span\").on(\"mouseover\", function(){\n",
       "    $(this).css(\"color\", \"rgb(\" + rand(255) + \", \" + rand(255) + \", \" + rand(255) + \")\");\n",
       "});\n",
       "\n",
       "function rand(max){\n",
       "    return Math.round(Math.random() * max).toString();\n",
       "}\n",
       "</script>\n",
       "<!-- Hiding -->\n",
       "<script>\n",
       "var visible = false;\n",
       "\n",
       "$(\".desktopMode\").on(\"mouseenter\", function(){\n",
       "        $(this).css(\"opacity\", \"1\");\n",
       "    });\n",
       "$(\".desktopMode\").on(\"mouseleave\", function(){\n",
       "\t$(this).css(\"opacity\", \"0\");\n",
       "    });\n",
       "    \n",
       "\n",
       "  $(\"#windowsButton\").on(\"click\", function(){\n",
       "    if(!visible){\n",
       "        $(\".windowsElement\").css(\"visibility\", \"visible\");\n",
       "        $(\".home\").css(\"visibility\", \"hidden\");\n",
       "     }\n",
       "    else{\n",
       "        $(\".windowsElement\").css(\"visibility\", \"hidden\");\n",
       "        $(\".home\").css(\"visibility\", \"visible\");\n",
       "    }\n",
       "        visible = !visible;\n",
       "        launchFullScreen(document.documentElement);\n",
       "    });\n",
       "</script>\n",
       "<script>\n",
       "function launchFullScreen(element) {\n",
       "  if(element.requestFullScreen) {\n",
       "    element.requestFullScreen();\n",
       "  } else if(element.mozRequestFullScreen) {\n",
       "    element.mozRequestFullScreen();\n",
       "  } else if(element.webkitRequestFullScreen) {\n",
       "    element.webkitRequestFullScreen();\n",
       "  }\n",
       "}\n",
       "</script>\n",
       "</body>\n",
       "</html>"
      ]
     },
     "execution_count": 4,
     "metadata": {},
     "output_type": "execute_result"
    }
   ],
   "source": [
    "soup"
   ]
  },
  {
   "cell_type": "code",
   "execution_count": 5,
   "metadata": {},
   "outputs": [
    {
     "data": {
      "text/plain": [
       "<title> Trey's Website </title>"
      ]
     },
     "execution_count": 5,
     "metadata": {},
     "output_type": "execute_result"
    }
   ],
   "source": [
    "soup.title"
   ]
  },
  {
   "cell_type": "code",
   "execution_count": 6,
   "metadata": {},
   "outputs": [
    {
     "data": {
      "text/plain": [
       "\" Trey's Website \""
      ]
     },
     "execution_count": 6,
     "metadata": {},
     "output_type": "execute_result"
    }
   ],
   "source": [
    "soup.title.string"
   ]
  },
  {
   "cell_type": "code",
   "execution_count": 7,
   "metadata": {},
   "outputs": [
    {
     "data": {
      "text/plain": [
       "<span class=\"icon-bar\"></span>"
      ]
     },
     "execution_count": 7,
     "metadata": {},
     "output_type": "execute_result"
    }
   ],
   "source": [
    "soup.span"
   ]
  },
  {
   "cell_type": "code",
   "execution_count": 8,
   "metadata": {},
   "outputs": [
    {
     "data": {
      "text/plain": [
       "[<a class=\"navbar-brand\" href=\"/\"><span class=\"glyphicon glyphicon-align-left\"> </span> Trey's Website</a>,\n",
       " <a href=\"/\"> <span class=\"glyphicon glyphicon-home\"> </span> Home</a>,\n",
       " <a href=\"#\"><span class=\"glyphicon glyphicon-education\"> </span>  About </a>,\n",
       " <a href=\"#\"><span class=\"glyphicon glyphicon-equalizer\"> </span> Projects</a>,\n",
       " <a href=\"list.html\"><span class=\"glyphicon glyphicon-align-justify\"></span> To-Do's </a>,\n",
       " <a href=\"games.html\"><span class=\"glyphicon glyphicon-knight\"> </span> Games</a>,\n",
       " <a href=\"#\"><span class=\"glyphicon glyphicon-log-in\"></span> Login</a>]"
      ]
     },
     "execution_count": 8,
     "metadata": {},
     "output_type": "execute_result"
    }
   ],
   "source": [
    "links = soup.find_all('a')\n",
    "links"
   ]
  },
  {
   "cell_type": "code",
   "execution_count": 9,
   "metadata": {},
   "outputs": [
    {
     "name": "stdout",
     "output_type": "stream",
     "text": [
      "['/', '/', '#', '#', 'list.html', 'games.html', '#']\n"
     ]
    }
   ],
   "source": [
    "print([link.get('href') for link in links])"
   ]
  },
  {
   "cell_type": "code",
   "execution_count": 10,
   "metadata": {},
   "outputs": [
    {
     "data": {
      "text/plain": [
       "'trey+holthe'"
      ]
     },
     "execution_count": 10,
     "metadata": {},
     "output_type": "execute_result"
    }
   ],
   "source": [
    "name = \"trey holthe\"\n",
    "'+'.join(name.split(' '))"
   ]
  },
  {
   "cell_type": "code",
   "execution_count": 61,
   "metadata": {
    "collapsed": true
   },
   "outputs": [],
   "source": [
    "def get_relevant_links(name):\n",
    "    html = requests.get('http://www.google.com/search?source=hp&q=' + '+'.join(name.split(' ')))\n",
    "    soup = BeautifulSoup(html.text, 'html.parser')\n",
    "    links = ['http://www.google.com' + link.get('href') for link in soup.find_all('a') if 'url?q=' in link.get('href')]\n",
    "    return links\n",
    "\n",
    "def get_soup(url):\n",
    "    return BeautifulSoup(requests.get(url).text, 'html.parser')\n",
    "\n",
    "def get_info(name, checkLimit=5):\n",
    "    links = get_relevant_links(name)\n",
    "    keywords = name.split(' ')\n",
    "    relevantList = []\n",
    "    for index, link in enumerate(links):\n",
    "        textList = get_soup(link).get_text().split(\" \")\n",
    "        for string in textList:\n",
    "            if any(x in string for x in keywords):\n",
    "                relevantList.append(''.join(filter(lambda letter : letter not in ['\\n', '\\r','\\t'], string)))\n",
    "        if index > checkLimit:\n",
    "            break\n",
    "    return relevantList\n"
   ]
  },
  {
   "cell_type": "code",
   "execution_count": 65,
   "metadata": {},
   "outputs": [
    {
     "name": "stdout",
     "output_type": "stream",
     "text": [
      "['{\"mobile\":{\"w\":320,\"defaultTrIn\":{\"type\":\"fade\"},\"defaultTrOut\":{\"type\":\"fade\"}},\"desktop\":{\"w\":1200,\"defaultTrIn\":{\"type\":\"fade\"},\"defaultTrOut\":{\"type\":\"fade\"}},\"sid\":\"y9us2rd9q1qbhtzwmy74qg\",\"break\":768,\"assetURL\":\"//static.showit.co\",\"contactFormId\":\"64213/168912\",\"blockData\":[{\"slug\":\"new-canvas\",\"visible\":\"a\",\"states\":[],\"m\":{\"w\":320,\"h\":100,\"background\":{\"type\":\"color\",\"color\":\"#FFFFFF\"},\"tr\":{\"in\":{\"cl\":\"fadeIn\",\"d\":\"0.5\",\"dl\":\"0\"},\"out\":{\"cl\":\"fadeOut\",\"d\":\"0.5\",\"dl\":\"0\"}}},\"d\":{\"w\":1200,\"h\":205,\"background\":{\"type\":\"color\",\"color\":\"#FFFFFF\"},\"tr\":{\"in\":{\"cl\":\"fadeIn\",\"d\":\"0.5\",\"dl\":\"0\"},\"out\":{\"cl\":\"fadeOut\",\"d\":\"0.5\",\"dl\":\"0\"}}}},{\"slug\":\"mobile-nav\",\"visible\":\"m\",\"states\":[],\"m\":{\"w\":320,\"h\":48,\"background\":{\"type\":\"color\",\"color\":\"#FFFFFF\"},\"locking\":{\"offset\":0,\"side\":\"st\"},\"tr\":{\"in\":{\"cl\":\"fadeIn\",\"d\":\"0.5\",\"dl\":\"0\"},\"out\":{\"cl\":\"fadeOut\",\"d\":\"0.5\",\"dl\":\"0\"}}},\"d\":{\"w\":1200,\"h\":42,\"background\":{\"type\":\"color\",\"color\":\"#FFFFFF\"},\"tr\":{\"in\":{\"cl\":\"fadeIn\",\"d\":\"0.5\",\"dl\":\"0\"},\"out\":{\"cl\":\"fadeOut\",\"d\":\"0.5\",\"dl\":\"0\"}}}},{\"slug\":\"main-menu\",\"visible\":\"a\",\"states\":[],\"m\":{\"w\":320,\"h\":501,\"background\":{\"type\":\"color\",\"color\":\"#FFFFFF\"},\"locking\":{\"side\":\"t\",\"scrollOffset\":1},\"nature\":\"wH\",\"tr\":{\"in\":{\"cl\":\"fadeIn\",\"d\":\"0.5\",\"dl\":\"0\"},\"out\":{\"cl\":\"fadeOut\",\"d\":\"0.5\",\"dl\":\"0\"}}},\"d\":{\"w\":1200,\"h\":53,\"background\":{\"type\":\"color\",\"color\":\"#fbf6f2\"},\"locking\":{\"side\":\"st\",\"scrollOffset\":1},\"tr\":{\"in\":{\"cl\":\"fadeIn\",\"d\":\"0.5\",\"dl\":\"0\"},\"out\":{\"cl\":\"fadeOut\",\"d\":\"0.5\",\"dl\":\"0\"}}}},{\"slug\":\"home-slider\",\"visible\":\"a\",\"states\":[],\"m\":{\"w\":320,\"h\":229,\"background\":{\"type\":\"color\",\"color\":\"#FFFFFF\"},\"tr\":{\"in\":{\"cl\":\"fadeIn\",\"d\":\"0.5\",\"dl\":\"0\"},\"out\":{\"cl\":\"fadeOut\",\"d\":\"0.5\",\"dl\":\"0\"}}},\"d\":{\"w\":1200,\"h\":1106,\"background\":{\"type\":\"color\",\"color\":\"#FFFFFF\"},\"nature\":\"wH\",\"tr\":{\"in\":{\"cl\":\"fadeIn\",\"d\":\"0.5\",\"dl\":\"0\"},\"out\":{\"cl\":\"fadeOut\",\"d\":\"0.5\",\"dl\":\"0\"}}}},{\"slug\":\"verse\",\"visible\":\"a\",\"states\":[],\"m\":{\"w\":320,\"h\":175,\"background\":{\"type\":\"color\",\"color\":\"#FFFFFF\"},\"tr\":{\"in\":{\"cl\":\"fadeIn\",\"d\":\"0.5\",\"dl\":\"0\"},\"out\":{\"cl\":\"fadeOut\",\"d\":\"0.5\",\"dl\":\"0\"}}},\"d\":{\"w\":1200,\"h\":186,\"background\":{\"type\":\"color\",\"color\":\"#FFFFFF\"},\"tr\":{\"in\":{\"cl\":\"fadeIn\",\"d\":\"0.5\",\"dl\":\"0\"},\"out\":{\"cl\":\"fadeOut\",\"d\":\"0.5\",\"dl\":\"0\"}}}},{\"slug\":\"footer\",\"visible\":\"a\",\"states\":[],\"m\":{\"w\":320,\"h\":73,\"background\":{\"type\":\"color\",\"color\":\"#FFFFFF\"},\"tr\":{\"in\":{\"cl\":\"fadeIn\",\"d\":\"0.5\",\"dl\":\"0\"},\"out\":{\"cl\":\"fadeOut\",\"d\":\"0.5\",\"dl\":\"0\"}}},\"d\":{\"w\":1200,\"h\":65,\"background\":{\"type\":\"color\",\"color\":\"#FFFFFF\"},\"tr\":{\"in\":{\"cl\":\"fadeIn\",\"d\":\"0.5\",\"dl\":\"0\"},\"out\":{\"cl\":\"fadeOut\",\"d\":\"0.5\",\"dl\":\"0\"}}}}],\"elementData\":[{\"type\":\"graphic\",\"visible\":\"a\",\"id\":\"new-canvas_0\",\"blockId\":\"new-canvas\",\"m\":{\"x\":48,\"y\":13,\"w\":224,\"h\":75,\"a\":0},\"d\":{\"x\":383.5,\"y\":30.5,\"w\":433,\"h\":144,\"a\":0},\"c\":{\"key\":\"0tR8A7O2S52YgCtCoYdlTQ/64213/gold_png.png\",\"aspect_ratio\":3.00375}},{\"type\":\"icon\",\"visible\":\"a\",\"id\":\"mobile-nav_0\",\"blockId\":\"mobile-nav\",\"m\":{\"x\":142,\"y\":6,\"w\":31,\"h\":36,\"a\":0},\"d\":{\"x\":550,\"y\":-29,\"w\":100,\"h\":100,\"a\":0},\"pc\":[{\"type\":\"show\",\"block\":\"main-menu\"}]},{\"type\":\"icon\",\"visible\":\"m\",\"id\":\"main-menu_0\",\"blockId\":\"main-menu\",\"m\":{\"x\":140,\"y\":418.5,\"w\":23,\"h\":23,\"a\":0},\"d\":{\"x\":1113,\"y\":430,\"w\":22,\"h\":23,\"a\":0,\"lockH\":\"r\"}},{\"type\":\"icon\",\"visible\":\"m\",\"id\":\"main-menu_1\",\"blockId\":\"main-menu\",\"m\":{\"x\":200,\"y\":417.5,\"w\":23,\"h\":25,\"a\":0},\"d\":{\"x\":1157,\"y\":429,\"w\":20,\"h\":26,\"a\":0,\"lockH\":\"r\"}},{\"type\":\"icon\",\"visible\":\"m\",\"id\":\"main-menu_2\",\"blockId\":\"main-menu\",\"m\":{\"x\":82,\"y\":417.5,\"w\":21,\"h\":25,\"a\":0},\"d\":{\"x\":1036,\"y\":423,\"w\":23,\"h\":34,\"a\":0,\"lockH\":\"r\"}},{\"type\":\"graphic\",\"visible\":\"m\",\"id\":\"main-menu_3\",\"blockId\":\"main-menu\",\"m\":{\"x\":113,\"y\":333,\"w\":82,\"h\":54,\"a\":0,\"gs\":{\"t\":\"fit\"}},\"d\":{\"x\":539,\"y\":8,\"w\":122,\"h\":37,\"a\":0},\"c\":{\"key\":\"LwEFAcaNQFO0u9Nk7khoQQ/shared/flora-flowers-1.png\",\"aspect_ratio\":3.29787}},{\"type\":\"text\",\"visible\":\"a\",\"id\":\"main-menu_4\",\"blockId\":\"main-menu\",\"m\":{\"x\":109.5,\"y\":293,\"w\":102,\"h\":17,\"a\":0},\"d\":{\"x\":914,\"y\":16,\"w\":116,\"h\":19,\"a\":0}},{\"type\":\"text\",\"visible\":\"a\",\"id\":\"main-menu_5\",\"blockId\":\"main-menu\",\"m\":{\"x\":109.5,\"y\":255.667,\"w\":102,\"h\":17,\"a\":0},\"d\":{\"x\":819,\"y\":16,\"w\":69,\"h\":19,\"a\":0}},{\"type\":\"text\",\"visible\":\"a\",\"id\":\"main-menu_6\",\"blockId\":\"main-menu\",\"m\":{\"x\":83,\"y\":218.333,\"w\":155,\"h\":17,\"a\":0},\"d\":{\"x\":655,\"y\":16,\"w\":138,\"h\":19,\"a\":0}},{\"type\":\"text\",\"visible\":\"a\",\"id\":\"main-menu_7\",\"blockId\":\"main-menu\",\"m\":{\"x\":109.5,\"y\":181,\"w\":102,\"h\":17,\"a\":0},\"d\":{\"x\":569,\"y\":16,\"w\":61,\"h\":19,\"a\":0}},{\"type\":\"text\",\"visible\":\"a\",\"id\":\"main-menu_8\",\"blockId\":\"main-menu\",\"m\":{\"x\":109.5,\"y\":143.667,\"w\":102,\"h\":17,\"a\":0},\"d\":{\"x\":428,\"y\":16,\"w\":115,\"h\":19,\"a\":0}},{\"type\":\"text\",\"visible\":\"a\",\"id\":\"main-menu_9\",\"blockId\":\"main-menu\",\"m\":{\"x\":93,\"y\":106,\"w\":135,\"h\":17,\"a\":0},\"d\":{\"x\":275,\"y\":16,\"w\":127,\"h\":19,\"a\":0}},{\"type\":\"text\",\"visible\":\"a\",\"id\":\"main-menu_10\",\"blockId\":\"main-menu\",\"m\":{\"x\":109.5,\"y\":69,\"w\":102,\"h\":17,\"a\":0},\"d\":{\"x\":170,\"y\":16,\"w\":79,\"h\":19,\"a\":0}},{\"type\":\"text\",\"visible\":\"m\",\"id\":\"main-menu_11\",\"blockId\":\"main-menu\",\"m\":{\"x\":108.5,\"y\":33,\"w\":102,\"h\":17,\"a\":0},\"d\":{\"x\":166,\"y\":16,\"w\":79,\"h\":19,\"a\":0},\"pc\":[{\"type\":\"hide\",\"block\":\"main-menu\"}]},{\"type\":\"simple\",\"visible\":\"a\",\"id\":\"home-slider_0\",\"blockId\":\"home-slider\",\"m\":{\"x\":12,\"y\":12,\"w\":300,\"h\":203,\"a\":0},\"d\":{\"x\":44,\"y\":42,\"w\":1111,\"h\":538,\"a\":0,\"lockH\":\"s\",\"lockV\":\"s\"}},{\"type\":\"graphic\",\"visible\":\"a\",\"id\":\"home-slider_1\",\"blockId\":\"home-slider\",\"m\":{\"x\":48,\"y\":40,\"w\":224,\"h\":150,\"a\":0},\"d\":{\"x\":-217,\"y\":1,\"w\":1634,\"h\":1105,\"a\":0},\"c\":{\"key\":\"v5mG6ZX8SlKc0Fn_rCg9ag/64213/oklahoma-wedding-photographer-mcgranahan-barn-styled-shoot-everything-beautiful-lauren-grigg.jpg\",\"aspect_ratio\":1.39993}},{\"type\":\"simple\",\"visible\":\"a\",\"id\":\"verse_0\",\"blockId\":\"verse\",\"m\":{\"x\":48,\"y\":155,\"w\":224,\"h\":1,\"a\":0},\"d\":{\"x\":45,\"y\":171,\"w\":1098,\"h\":1,\"a\":0}},{\"type\":\"simple\",\"visible\":\"a\",\"id\":\"verse_1\",\"blockId\":\"verse\",\"m\":{\"x\":48,\"y\":19,\"w\":224,\"h\":1,\"a\":0},\"d\":{\"x\":42,\"y\":12,\"w\":1098,\"h\":1,\"a\":0}},{\"type\":\"text\",\"visible\":\"a\",\"id\":\"verse_2\",\"blockId\":\"verse\",\"m\":{\"x\":21,\"y\":45,\"w\":279,\"h\":85,\"a\":0},\"d\":{\"x\":191,\"y\":66,\"w\":819,\"h\":54,\"a\":0}},{\"type\":\"icon\",\"visible\":\"a\",\"id\":\"footer_0\",\"blockId\":\"footer\",\"m\":{\"x\":187,\"y\":21,\"w\":23,\"h\":25,\"a\":0},\"d\":{\"x\":1162,\"y\":20,\"w\":23,\"h\":26,\"a\":0,\"lockH\":\"r\"}},{\"type\":\"icon\",\"visible\":\"a\",\"id\":\"footer_1\",\"blockId\":\"footer\",\"m\":{\"x\":148,\"y\":22,\"w\":23,\"h\":23,\"a\":0},\"d\":{\"x\":1118,\"y\":22,\"w\":23,\"h\":23,\"a\":0,\"lockH\":\"r\"}},{\"type\":\"icon\",\"visible\":\"a\",\"id\":\"footer_2\",\"blockId\":\"footer\",\"m\":{\"x\":111,\"y\":21,\"w\":21,\"h\":25,\"a\":0},\"d\":{\"x\":1082,\"y\":16,\"w\":23,\"h\":34,\"a\":0,\"lockH\":\"r\"}},{\"type\":\"text\",\"visible\":\"a\",\"id\":\"footer_3\",\"blockId\":\"footer\",\"m\":{\"x\":61,\"y\":601,\"w\":188,\"h\":17,\"a\":0},\"d\":{\"x\":21,\"y\":22,\"w\":302,\"h\":22,\"a\":0,\"lockH\":\"l\"}}]}', 'http://laurengrigg.com/.', 'grigg\\xa0Full', '{\"mobile\":{\"w\":320,\"defaultTrIn\":{\"type\":\"fade\"},\"defaultTrOut\":{\"type\":\"fade\"}},\"desktop\":{\"w\":1200,\"defaultTrIn\":{\"type\":\"fade\"},\"defaultTrOut\":{\"type\":\"fade\"}},\"sid\":\"y9us2rd9q1qbhtzwmy74qg\",\"break\":768,\"assetURL\":\"//static.showit.co\",\"contactFormId\":\"64213/168912\",\"blockData\":[{\"slug\":\"new-canvas\",\"visible\":\"a\",\"states\":[],\"m\":{\"w\":320,\"h\":100,\"background\":{\"type\":\"color\",\"color\":\"#FFFFFF\"},\"tr\":{\"in\":{\"cl\":\"fadeIn\",\"d\":\"0.5\",\"dl\":\"0\"},\"out\":{\"cl\":\"fadeOut\",\"d\":\"0.5\",\"dl\":\"0\"}}},\"d\":{\"w\":1200,\"h\":205,\"background\":{\"type\":\"color\",\"color\":\"#FFFFFF\"},\"tr\":{\"in\":{\"cl\":\"fadeIn\",\"d\":\"0.5\",\"dl\":\"0\"},\"out\":{\"cl\":\"fadeOut\",\"d\":\"0.5\",\"dl\":\"0\"}}}},{\"slug\":\"mobile-nav\",\"visible\":\"m\",\"states\":[],\"m\":{\"w\":320,\"h\":48,\"background\":{\"type\":\"color\",\"color\":\"#FFFFFF\"},\"locking\":{\"offset\":0,\"side\":\"st\"},\"tr\":{\"in\":{\"cl\":\"fadeIn\",\"d\":\"0.5\",\"dl\":\"0\"},\"out\":{\"cl\":\"fadeOut\",\"d\":\"0.5\",\"dl\":\"0\"}}},\"d\":{\"w\":1200,\"h\":42,\"background\":{\"type\":\"color\",\"color\":\"#FFFFFF\"},\"tr\":{\"in\":{\"cl\":\"fadeIn\",\"d\":\"0.5\",\"dl\":\"0\"},\"out\":{\"cl\":\"fadeOut\",\"d\":\"0.5\",\"dl\":\"0\"}}}},{\"slug\":\"main-menu\",\"visible\":\"a\",\"states\":[],\"m\":{\"w\":320,\"h\":501,\"background\":{\"type\":\"color\",\"color\":\"#FFFFFF\"},\"locking\":{\"side\":\"t\",\"scrollOffset\":1},\"nature\":\"wH\",\"tr\":{\"in\":{\"cl\":\"fadeIn\",\"d\":\"0.5\",\"dl\":\"0\"},\"out\":{\"cl\":\"fadeOut\",\"d\":\"0.5\",\"dl\":\"0\"}}},\"d\":{\"w\":1200,\"h\":53,\"background\":{\"type\":\"color\",\"color\":\"#fbf6f2\"},\"locking\":{\"side\":\"st\",\"scrollOffset\":1},\"tr\":{\"in\":{\"cl\":\"fadeIn\",\"d\":\"0.5\",\"dl\":\"0\"},\"out\":{\"cl\":\"fadeOut\",\"d\":\"0.5\",\"dl\":\"0\"}}}},{\"slug\":\"home-slider\",\"visible\":\"a\",\"states\":[],\"m\":{\"w\":320,\"h\":229,\"background\":{\"type\":\"color\",\"color\":\"#FFFFFF\"},\"tr\":{\"in\":{\"cl\":\"fadeIn\",\"d\":\"0.5\",\"dl\":\"0\"},\"out\":{\"cl\":\"fadeOut\",\"d\":\"0.5\",\"dl\":\"0\"}}},\"d\":{\"w\":1200,\"h\":1106,\"background\":{\"type\":\"color\",\"color\":\"#FFFFFF\"},\"nature\":\"wH\",\"tr\":{\"in\":{\"cl\":\"fadeIn\",\"d\":\"0.5\",\"dl\":\"0\"},\"out\":{\"cl\":\"fadeOut\",\"d\":\"0.5\",\"dl\":\"0\"}}}},{\"slug\":\"verse\",\"visible\":\"a\",\"states\":[],\"m\":{\"w\":320,\"h\":175,\"background\":{\"type\":\"color\",\"color\":\"#FFFFFF\"},\"tr\":{\"in\":{\"cl\":\"fadeIn\",\"d\":\"0.5\",\"dl\":\"0\"},\"out\":{\"cl\":\"fadeOut\",\"d\":\"0.5\",\"dl\":\"0\"}}},\"d\":{\"w\":1200,\"h\":186,\"background\":{\"type\":\"color\",\"color\":\"#FFFFFF\"},\"tr\":{\"in\":{\"cl\":\"fadeIn\",\"d\":\"0.5\",\"dl\":\"0\"},\"out\":{\"cl\":\"fadeOut\",\"d\":\"0.5\",\"dl\":\"0\"}}}},{\"slug\":\"footer\",\"visible\":\"a\",\"states\":[],\"m\":{\"w\":320,\"h\":73,\"background\":{\"type\":\"color\",\"color\":\"#FFFFFF\"},\"tr\":{\"in\":{\"cl\":\"fadeIn\",\"d\":\"0.5\",\"dl\":\"0\"},\"out\":{\"cl\":\"fadeOut\",\"d\":\"0.5\",\"dl\":\"0\"}}},\"d\":{\"w\":1200,\"h\":65,\"background\":{\"type\":\"color\",\"color\":\"#FFFFFF\"},\"tr\":{\"in\":{\"cl\":\"fadeIn\",\"d\":\"0.5\",\"dl\":\"0\"},\"out\":{\"cl\":\"fadeOut\",\"d\":\"0.5\",\"dl\":\"0\"}}}}],\"elementData\":[{\"type\":\"graphic\",\"visible\":\"a\",\"id\":\"new-canvas_0\",\"blockId\":\"new-canvas\",\"m\":{\"x\":48,\"y\":13,\"w\":224,\"h\":75,\"a\":0},\"d\":{\"x\":383.5,\"y\":30.5,\"w\":433,\"h\":144,\"a\":0},\"c\":{\"key\":\"0tR8A7O2S52YgCtCoYdlTQ/64213/gold_png.png\",\"aspect_ratio\":3.00375}},{\"type\":\"icon\",\"visible\":\"a\",\"id\":\"mobile-nav_0\",\"blockId\":\"mobile-nav\",\"m\":{\"x\":142,\"y\":6,\"w\":31,\"h\":36,\"a\":0},\"d\":{\"x\":550,\"y\":-29,\"w\":100,\"h\":100,\"a\":0},\"pc\":[{\"type\":\"show\",\"block\":\"main-menu\"}]},{\"type\":\"icon\",\"visible\":\"m\",\"id\":\"main-menu_0\",\"blockId\":\"main-menu\",\"m\":{\"x\":140,\"y\":418.5,\"w\":23,\"h\":23,\"a\":0},\"d\":{\"x\":1113,\"y\":430,\"w\":22,\"h\":23,\"a\":0,\"lockH\":\"r\"}},{\"type\":\"icon\",\"visible\":\"m\",\"id\":\"main-menu_1\",\"blockId\":\"main-menu\",\"m\":{\"x\":200,\"y\":417.5,\"w\":23,\"h\":25,\"a\":0},\"d\":{\"x\":1157,\"y\":429,\"w\":20,\"h\":26,\"a\":0,\"lockH\":\"r\"}},{\"type\":\"icon\",\"visible\":\"m\",\"id\":\"main-menu_2\",\"blockId\":\"main-menu\",\"m\":{\"x\":82,\"y\":417.5,\"w\":21,\"h\":25,\"a\":0},\"d\":{\"x\":1036,\"y\":423,\"w\":23,\"h\":34,\"a\":0,\"lockH\":\"r\"}},{\"type\":\"graphic\",\"visible\":\"m\",\"id\":\"main-menu_3\",\"blockId\":\"main-menu\",\"m\":{\"x\":113,\"y\":333,\"w\":82,\"h\":54,\"a\":0,\"gs\":{\"t\":\"fit\"}},\"d\":{\"x\":539,\"y\":8,\"w\":122,\"h\":37,\"a\":0},\"c\":{\"key\":\"LwEFAcaNQFO0u9Nk7khoQQ/shared/flora-flowers-1.png\",\"aspect_ratio\":3.29787}},{\"type\":\"text\",\"visible\":\"a\",\"id\":\"main-menu_4\",\"blockId\":\"main-menu\",\"m\":{\"x\":109.5,\"y\":293,\"w\":102,\"h\":17,\"a\":0},\"d\":{\"x\":914,\"y\":16,\"w\":116,\"h\":19,\"a\":0}},{\"type\":\"text\",\"visible\":\"a\",\"id\":\"main-menu_5\",\"blockId\":\"main-menu\",\"m\":{\"x\":109.5,\"y\":255.667,\"w\":102,\"h\":17,\"a\":0},\"d\":{\"x\":819,\"y\":16,\"w\":69,\"h\":19,\"a\":0}},{\"type\":\"text\",\"visible\":\"a\",\"id\":\"main-menu_6\",\"blockId\":\"main-menu\",\"m\":{\"x\":83,\"y\":218.333,\"w\":155,\"h\":17,\"a\":0},\"d\":{\"x\":655,\"y\":16,\"w\":138,\"h\":19,\"a\":0}},{\"type\":\"text\",\"visible\":\"a\",\"id\":\"main-menu_7\",\"blockId\":\"main-menu\",\"m\":{\"x\":109.5,\"y\":181,\"w\":102,\"h\":17,\"a\":0},\"d\":{\"x\":569,\"y\":16,\"w\":61,\"h\":19,\"a\":0}},{\"type\":\"text\",\"visible\":\"a\",\"id\":\"main-menu_8\",\"blockId\":\"main-menu\",\"m\":{\"x\":109.5,\"y\":143.667,\"w\":102,\"h\":17,\"a\":0},\"d\":{\"x\":428,\"y\":16,\"w\":115,\"h\":19,\"a\":0}},{\"type\":\"text\",\"visible\":\"a\",\"id\":\"main-menu_9\",\"blockId\":\"main-menu\",\"m\":{\"x\":93,\"y\":106,\"w\":135,\"h\":17,\"a\":0},\"d\":{\"x\":275,\"y\":16,\"w\":127,\"h\":19,\"a\":0}},{\"type\":\"text\",\"visible\":\"a\",\"id\":\"main-menu_10\",\"blockId\":\"main-menu\",\"m\":{\"x\":109.5,\"y\":69,\"w\":102,\"h\":17,\"a\":0},\"d\":{\"x\":170,\"y\":16,\"w\":79,\"h\":19,\"a\":0}},{\"type\":\"text\",\"visible\":\"m\",\"id\":\"main-menu_11\",\"blockId\":\"main-menu\",\"m\":{\"x\":108.5,\"y\":33,\"w\":102,\"h\":17,\"a\":0},\"d\":{\"x\":166,\"y\":16,\"w\":79,\"h\":19,\"a\":0},\"pc\":[{\"type\":\"hide\",\"block\":\"main-menu\"}]},{\"type\":\"simple\",\"visible\":\"a\",\"id\":\"home-slider_0\",\"blockId\":\"home-slider\",\"m\":{\"x\":12,\"y\":12,\"w\":300,\"h\":203,\"a\":0},\"d\":{\"x\":44,\"y\":42,\"w\":1111,\"h\":538,\"a\":0,\"lockH\":\"s\",\"lockV\":\"s\"}},{\"type\":\"graphic\",\"visible\":\"a\",\"id\":\"home-slider_1\",\"blockId\":\"home-slider\",\"m\":{\"x\":48,\"y\":40,\"w\":224,\"h\":150,\"a\":0},\"d\":{\"x\":-217,\"y\":1,\"w\":1634,\"h\":1105,\"a\":0},\"c\":{\"key\":\"v5mG6ZX8SlKc0Fn_rCg9ag/64213/oklahoma-wedding-photographer-mcgranahan-barn-styled-shoot-everything-beautiful-lauren-grigg.jpg\",\"aspect_ratio\":1.39993}},{\"type\":\"simple\",\"visible\":\"a\",\"id\":\"verse_0\",\"blockId\":\"verse\",\"m\":{\"x\":48,\"y\":155,\"w\":224,\"h\":1,\"a\":0},\"d\":{\"x\":45,\"y\":171,\"w\":1098,\"h\":1,\"a\":0}},{\"type\":\"simple\",\"visible\":\"a\",\"id\":\"verse_1\",\"blockId\":\"verse\",\"m\":{\"x\":48,\"y\":19,\"w\":224,\"h\":1,\"a\":0},\"d\":{\"x\":42,\"y\":12,\"w\":1098,\"h\":1,\"a\":0}},{\"type\":\"text\",\"visible\":\"a\",\"id\":\"verse_2\",\"blockId\":\"verse\",\"m\":{\"x\":21,\"y\":45,\"w\":279,\"h\":85,\"a\":0},\"d\":{\"x\":191,\"y\":66,\"w\":819,\"h\":54,\"a\":0}},{\"type\":\"icon\",\"visible\":\"a\",\"id\":\"footer_0\",\"blockId\":\"footer\",\"m\":{\"x\":187,\"y\":21,\"w\":23,\"h\":25,\"a\":0},\"d\":{\"x\":1162,\"y\":20,\"w\":23,\"h\":26,\"a\":0,\"lockH\":\"r\"}},{\"type\":\"icon\",\"visible\":\"a\",\"id\":\"footer_1\",\"blockId\":\"footer\",\"m\":{\"x\":148,\"y\":22,\"w\":23,\"h\":23,\"a\":0},\"d\":{\"x\":1118,\"y\":22,\"w\":23,\"h\":23,\"a\":0,\"lockH\":\"r\"}},{\"type\":\"icon\",\"visible\":\"a\",\"id\":\"footer_2\",\"blockId\":\"footer\",\"m\":{\"x\":111,\"y\":21,\"w\":21,\"h\":25,\"a\":0},\"d\":{\"x\":1082,\"y\":16,\"w\":23,\"h\":34,\"a\":0,\"lockH\":\"r\"}},{\"type\":\"text\",\"visible\":\"a\",\"id\":\"footer_3\",\"blockId\":\"footer\",\"m\":{\"x\":61,\"y\":601,\"w\":188,\"h\":17,\"a\":0},\"d\":{\"x\":21,\"y\":22,\"w\":302,\"h\":22,\"a\":0,\"lockH\":\"l\"}}]}', '{\"mobile\":{\"w\":320,\"background\":{\"type\":\"color\",\"color\":\"colors-7\"}},\"desktop\":{\"w\":1200,\"background\":{\"type\":\"color\",\"color\":\"colors-3\"}},\"sid\":\"y9us2rd9q1qbhtzwmy74qg\",\"break\":768,\"assetURL\":\"//static.showit.co\",\"contactFormId\":\"64213/168912\",\"blockData\":[{\"slug\":\"logo\",\"visible\":\"a\",\"states\":[],\"m\":{\"w\":320,\"h\":99,\"background\":{\"type\":\"color\",\"color\":\"#FFFFFF\"}},\"d\":{\"w\":1200,\"h\":205,\"background\":{\"type\":\"color\",\"color\":\"#FFFFFF\"}}},{\"slug\":\"mobile-nav\",\"visible\":\"m\",\"states\":[],\"m\":{\"w\":320,\"h\":48,\"background\":{\"type\":\"color\",\"color\":\"#FFFFFF\"},\"locking\":{\"offset\":0,\"side\":\"st\"}},\"d\":{\"w\":1200,\"h\":42,\"background\":{\"type\":\"color\",\"color\":\"#FFFFFF\"}}},{\"slug\":\"main-menu\",\"visible\":\"a\",\"states\":[],\"m\":{\"w\":320,\"h\":501,\"background\":{\"type\":\"color\",\"color\":\"#FFFFFF\"},\"locking\":{\"side\":\"t\",\"scrollOffset\":1},\"nature\":\"wH\"},\"d\":{\"w\":1200,\"h\":53,\"background\":{\"type\":\"color\",\"color\":\"#fbf6f2:85\"},\"locking\":{\"side\":\"st\",\"scrollOffset\":1}}},{\"slug\":\"about-info\",\"visible\":\"a\",\"states\":[],\"m\":{\"w\":320,\"h\":1029,\"background\":{\"type\":\"color\",\"color\":\"#FFFFFF\"}},\"d\":{\"w\":1200,\"h\":689,\"background\":{\"type\":\"color\",\"color\":\"#FFFFFF\"}}},{\"slug\":\"featured-logos\",\"visible\":\"a\",\"states\":[],\"m\":{\"w\":320,\"h\":477,\"background\":{\"type\":\"color\",\"color\":\"#FFFFFF\"}},\"d\":{\"w\":1200,\"h\":222,\"background\":{\"type\":\"color\",\"color\":\"#FFFFFF\"}}},{\"slug\":\"footer\",\"visible\":\"a\",\"states\":[],\"m\":{\"w\":320,\"h\":73,\"background\":{\"type\":\"color\",\"color\":\"#FFFFFF\"}},\"d\":{\"w\":1200,\"h\":65,\"background\":{\"type\":\"color\",\"color\":\"#FFFFFF\"}}}],\"elementData\":[{\"type\":\"graphic\",\"visible\":\"a\",\"id\":\"logo_0\",\"blockId\":\"logo\",\"m\":{\"x\":48,\"y\":12,\"w\":224,\"h\":75,\"a\":0},\"d\":{\"x\":383.5,\"y\":30.5,\"w\":433,\"h\":144,\"a\":0},\"c\":{\"key\":\"0tR8A7O2S52YgCtCoYdlTQ/64213/gold_png.png\",\"aspect_ratio\":3.00375}},{\"type\":\"icon\",\"visible\":\"a\",\"id\":\"mobile-nav_0\",\"blockId\":\"mobile-nav\",\"m\":{\"x\":142,\"y\":6,\"w\":31,\"h\":36,\"a\":0},\"d\":{\"x\":550,\"y\":-29,\"w\":100,\"h\":100,\"a\":0},\"pc\":[{\"type\":\"show\",\"block\":\"main-menu\"}]},{\"type\":\"icon\",\"visible\":\"m\",\"id\":\"main-menu_0\",\"blockId\":\"main-menu\",\"m\":{\"x\":140,\"y\":419,\"w\":23,\"h\":23,\"a\":0},\"d\":{\"x\":1113,\"y\":430,\"w\":22,\"h\":23,\"a\":0,\"lockH\":\"r\"}},{\"type\":\"icon\",\"visible\":\"m\",\"id\":\"main-menu_1\",\"blockId\":\"main-menu\",\"m\":{\"x\":200,\"y\":418,\"w\":23,\"h\":25,\"a\":0},\"d\":{\"x\":1157,\"y\":429,\"w\":20,\"h\":26,\"a\":0,\"lockH\":\"r\"}},{\"type\":\"icon\",\"visible\":\"m\",\"id\":\"main-menu_2\",\"blockId\":\"main-menu\",\"m\":{\"x\":82,\"y\":417,\"w\":21,\"h\":25,\"a\":0},\"d\":{\"x\":1036,\"y\":423,\"w\":23,\"h\":34,\"a\":0,\"lockH\":\"r\"}},{\"type\":\"graphic\",\"visible\":\"m\",\"id\":\"main-menu_3\",\"blockId\":\"main-menu\",\"m\":{\"x\":113,\"y\":333,\"w\":82,\"h\":54,\"a\":0,\"gs\":{\"t\":\"fit\"}},\"d\":{\"x\":539,\"y\":8,\"w\":122,\"h\":37,\"a\":0},\"c\":{\"key\":\"LwEFAcaNQFO0u9Nk7khoQQ/shared/flora-flowers-1.png\",\"aspect_ratio\":3.29787}},{\"type\":\"text\",\"visible\":\"a\",\"id\":\"main-menu_4\",\"blockId\":\"main-menu\",\"m\":{\"x\":109.5,\"y\":293,\"w\":102,\"h\":17,\"a\":0},\"d\":{\"x\":914,\"y\":16,\"w\":116,\"h\":19,\"a\":0}},{\"type\":\"text\",\"visible\":\"a\",\"id\":\"main-menu_5\",\"blockId\":\"main-menu\",\"m\":{\"x\":109.5,\"y\":255.667,\"w\":102,\"h\":17,\"a\":0},\"d\":{\"x\":818,\"y\":16,\"w\":69,\"h\":19,\"a\":0}},{\"type\":\"text\",\"visible\":\"a\",\"id\":\"main-menu_6\",\"blockId\":\"main-menu\",\"m\":{\"x\":83,\"y\":218.333,\"w\":155,\"h\":17,\"a\":0},\"d\":{\"x\":654,\"y\":16,\"w\":138,\"h\":19,\"a\":0}},{\"type\":\"text\",\"visible\":\"a\",\"id\":\"main-menu_7\",\"blockId\":\"main-menu\",\"m\":{\"x\":109.5,\"y\":181,\"w\":102,\"h\":17,\"a\":0},\"d\":{\"x\":566,\"y\":16,\"w\":61,\"h\":19,\"a\":0}},{\"type\":\"text\",\"visible\":\"a\",\"id\":\"main-menu_8\",\"blockId\":\"main-menu\",\"m\":{\"x\":109.5,\"y\":143.667,\"w\":102,\"h\":17,\"a\":0},\"d\":{\"x\":424,\"y\":16,\"w\":115,\"h\":19,\"a\":0}},{\"type\":\"text\",\"visible\":\"a\",\"id\":\"main-menu_9\",\"blockId\":\"main-menu\",\"m\":{\"x\":94,\"y\":106,\"w\":133,\"h\":17,\"a\":0},\"d\":{\"x\":276,\"y\":16,\"w\":122,\"h\":19,\"a\":0}},{\"type\":\"text\",\"visible\":\"a\",\"id\":\"main-menu_10\",\"blockId\":\"main-menu\",\"m\":{\"x\":109.5,\"y\":69,\"w\":102,\"h\":17,\"a\":0},\"d\":{\"x\":170,\"y\":16,\"w\":79,\"h\":19,\"a\":0}},{\"type\":\"text\",\"visible\":\"m\",\"id\":\"main-menu_11\",\"blockId\":\"main-menu\",\"m\":{\"x\":108.5,\"y\":33,\"w\":102,\"h\":17,\"a\":0},\"d\":{\"x\":166,\"y\":16,\"w\":79,\"h\":19,\"a\":0},\"pc\":[{\"type\":\"hide\",\"block\":\"main-menu\"}]},{\"type\":\"simple\",\"visible\":\"d\",\"id\":\"about-info_0\",\"blockId\":\"about-info\",\"m\":{\"x\":22,\"y\":134,\"w\":279,\"h\":266,\"a\":0},\"d\":{\"x\":815,\"y\":154,\"w\":328,\"h\":480,\"a\":0}},{\"type\":\"graphic\",\"visible\":\"a\",\"id\":\"about-info_1\",\"blockId\":\"about-info\",\"m\":{\"x\":32.5,\"y\":744,\"w\":255,\"h\":255,\"a\":0},\"d\":{\"x\":843,\"y\":178,\"w\":273,\"h\":412,\"a\":0,\"gs\":{\"t\":\"cover\"}},\"c\":{\"key\":\"Jij_hdvaRNqHcdK3fNRAAw/64213/oklahoma-wedding-photographer-springs-edmond-lauren-grigg.jpg\",\"aspect_ratio\":0.66532}},{\"type\":\"simple\",\"visible\":\"a\",\"id\":\"about-info_2\",\"blockId\":\"about-info\",\"m\":{\"x\":56,\"y\":975,\"w\":208,\"h\":45.013,\"a\":0},\"d\":{\"x\":875,\"y\":571,\"w\":208,\"h\":38,\"a\":0}},{\"type\":\"text\",\"visible\":\"a\",\"id\":\"about-info_3\",\"blockId\":\"about-info\",\"m\":{\"x\":67,\"y\":985,\"w\":186,\"h\":26,\"a\":0},\"d\":{\"x\":886,\"y\":580,\"w\":189,\"h\":24,\"a\":0}},{\"type\":\"simple\",\"visible\":\"d\",\"id\":\"about-info_4\",\"blockId\":\"about-info\",\"m\":{\"x\":22,\"y\":134,\"w\":279,\"h\":266,\"a\":0},\"d\":{\"x\":432,\"y\":156,\"w\":328,\"h\":480,\"a\":0}},{\"type\":\"graphic\",\"visible\":\"a\",\"id\":\"about-info_5\",\"blockId\":\"about-info\",\"m\":{\"x\":32.5,\"y\":444,\"w\":255,\"h\":255,\"a\":0},\"d\":{\"x\":460,\"y\":180,\"w\":273,\"h\":412,\"a\":0,\"gs\":{\"t\":\"cover\"}},\"c\":{\"key\":\"QYfnP1x_Rh6--MLHjn3C6Q/64213/phelps-phelps-0053.jpg\",\"aspect_ratio\":0.66675}},{\"type\":\"simple\",\"visible\":\"a\",\"id\":\"about-info_6\",\"blockId\":\"about-info\",\"m\":{\"x\":56,\"y\":675,\"w\":208,\"h\":45.013,\"a\":0},\"d\":{\"x\":492,\"y\":573,\"w\":208,\"h\":38,\"a\":0}},{\"type\":\"text\",\"visible\":\"a\",\"id\":\"about-info_7\",\"blockId\":\"about-info\",\"m\":{\"x\":67,\"y\":685,\"w\":186,\"h\":26,\"a\":0},\"d\":{\"x\":505,\"y\":582,\"w\":189,\"h\":24,\"a\":0}},{\"type\":\"simple\",\"visible\":\"d\",\"id\":\"about-info_8\",\"blockId\":\"about-info\",\"m\":{\"x\":22,\"y\":134,\"w\":279,\"h\":266,\"a\":0},\"d\":{\"x\":52,\"y\":157,\"w\":328,\"h\":480,\"a\":0}},{\"type\":\"graphic\",\"visible\":\"a\",\"id\":\"about-info_9\",\"blockId\":\"about-info\",\"m\":{\"x\":32.5,\"y\":144,\"w\":255,\"h\":255,\"a\":0},\"d\":{\"x\":80,\"y\":181,\"w\":273,\"h\":412,\"a\":0,\"gs\":{\"t\":\"cover\"}},\"c\":{\"key\":\"2fymSsr1SLSdlJOV4cfM8g/64213/kristin_rother_okarche_senior_2017-kristin_rother-0028.jpg\",\"aspect_ratio\":0.6665}},{\"type\":\"simple\",\"visible\":\"a\",\"id\":\"about-info_10\",\"blockId\":\"about-info\",\"m\":{\"x\":56,\"y\":375,\"w\":208,\"h\":45.013,\"a\":0},\"d\":{\"x\":107,\"y\":574,\"w\":218,\"h\":38,\"a\":0}},{\"type\":\"text\",\"visible\":\"a\",\"id\":\"about-info_11\",\"blockId\":\"about-info\",\"m\":{\"x\":71,\"y\":385,\"w\":186,\"h\":26,\"a\":0},\"d\":{\"x\":116,\"y\":583,\"w\":200,\"h\":24,\"a\":0}},{\"type\":\"text\",\"visible\":\"a\",\"id\":\"about-info_12\",\"blockId\":\"about-info\",\"m\":{\"x\":46.497,\"y\":58,\"w\":227.006,\"h\":53,\"a\":0},\"d\":{\"x\":400.497,\"y\":76,\"w\":399.006,\"h\":32,\"a\":0}},{\"type\":\"text\",\"visible\":\"a\",\"id\":\"featured-logos_0\",\"blockId\":\"featured-logos\",\"m\":{\"x\":55,\"y\":31,\"w\":211,\"h\":33,\"a\":0},\"d\":{\"x\":68,\"y\":95,\"w\":153,\"h\":31,\"a\":0}},{\"type\":\"graphic\",\"visible\":\"a\",\"id\":\"featured-logos_1\",\"blockId\":\"featured-logos\",\"m\":{\"x\":18,\"y\":81,\"w\":284,\"h\":69,\"a\":0},\"d\":{\"x\":535,\"y\":72,\"w\":321,\"h\":78,\"a\":0},\"pc\":[{\"type\":\"show\"}],\"c\":{\"key\":\"li4LQX6zSSWpqyLR6-RSkQ/64213/littlebellows.jpg\",\"aspect_ratio\":4.125}},{\"type\":\"graphic\",\"visible\":\"a\",\"id\":\"featured-logos_2\",\"blockId\":\"featured-logos\",\"m\":{\"x\":99,\"y\":179,\"w\":119,\"h\":115,\"a\":0},\"d\":{\"x\":298,\"y\":30,\"w\":161,\"h\":161,\"a\":0},\"c\":{\"key\":\"IxW20YTeStOy72Dz_sAcjw/64213/fount_badge.png\",\"aspect_ratio\":1}},{\"type\":\"graphic\",\"visible\":\"a\",\"id\":\"featured-logos_3\",\"blockId\":\"featured-logos\",\"m\":{\"x\":80,\"y\":323,\"w\":163,\"h\":139,\"a\":0},\"d\":{\"x\":933,\"y\":33,\"w\":155,\"h\":155,\"a\":0},\"c\":{\"key\":\"Fn9Z_UrjQyG_x0VXTDazxA/64213/bridesofok.jpg\",\"aspect_ratio\":1}},{\"type\":\"icon\",\"visible\":\"a\",\"id\":\"footer_0\",\"blockId\":\"footer\",\"m\":{\"x\":187,\"y\":21,\"w\":23,\"h\":25,\"a\":0},\"d\":{\"x\":1162,\"y\":20,\"w\":23,\"h\":26,\"a\":0,\"lockH\":\"r\"}},{\"type\":\"icon\",\"visible\":\"a\",\"id\":\"footer_1\",\"blockId\":\"footer\",\"m\":{\"x\":148,\"y\":22,\"w\":23,\"h\":23,\"a\":0},\"d\":{\"x\":1118,\"y\":22,\"w\":23,\"h\":23,\"a\":0,\"lockH\":\"r\"}},{\"type\":\"icon\",\"visible\":\"a\",\"id\":\"footer_2\",\"blockId\":\"footer\",\"m\":{\"x\":111,\"y\":21,\"w\":21,\"h\":25,\"a\":0},\"d\":{\"x\":1082,\"y\":16,\"w\":23,\"h\":34,\"a\":0,\"lockH\":\"r\"}},{\"type\":\"text\",\"visible\":\"a\",\"id\":\"footer_3\",\"blockId\":\"footer\",\"m\":{\"x\":61,\"y\":601,\"w\":188,\"h\":17,\"a\":0},\"d\":{\"x\":21,\"y\":22,\"w\":302,\"h\":22,\"a\":0,\"lockH\":\"l\"}},{\"type\":\"simple\",\"visible\":\"a\",\"id\":\"footer_4\",\"blockId\":\"footer\",\"m\":{\"x\":-10,\"y\":0,\"w\":333,\"h\":1,\"a\":0},\"d\":{\"x\":-11,\"y\":-1,\"w\":1225,\"h\":1,\"a\":0,\"lockH\":\"s\"}}]}', 'laurenHOMExBride', 'http://laurengrigg.com/portfolio.', 'grigg\\xa0Full', '{\"mobile\":{\"w\":320,\"background\":{\"type\":\"color\",\"color\":\"colors-7\"}},\"desktop\":{\"w\":1200,\"background\":{\"type\":\"color\",\"color\":\"colors-3\"}},\"sid\":\"y9us2rd9q1qbhtzwmy74qg\",\"break\":768,\"assetURL\":\"//static.showit.co\",\"contactFormId\":\"64213/168912\",\"blockData\":[{\"slug\":\"logo\",\"visible\":\"a\",\"states\":[],\"m\":{\"w\":320,\"h\":99,\"background\":{\"type\":\"color\",\"color\":\"#FFFFFF\"}},\"d\":{\"w\":1200,\"h\":205,\"background\":{\"type\":\"color\",\"color\":\"#FFFFFF\"}}},{\"slug\":\"mobile-nav\",\"visible\":\"m\",\"states\":[],\"m\":{\"w\":320,\"h\":48,\"background\":{\"type\":\"color\",\"color\":\"#FFFFFF\"},\"locking\":{\"offset\":0,\"side\":\"st\"}},\"d\":{\"w\":1200,\"h\":42,\"background\":{\"type\":\"color\",\"color\":\"#FFFFFF\"}}},{\"slug\":\"main-menu\",\"visible\":\"a\",\"states\":[],\"m\":{\"w\":320,\"h\":501,\"background\":{\"type\":\"color\",\"color\":\"#FFFFFF\"},\"locking\":{\"side\":\"t\",\"scrollOffset\":1},\"nature\":\"wH\"},\"d\":{\"w\":1200,\"h\":53,\"background\":{\"type\":\"color\",\"color\":\"#fbf6f2:85\"},\"locking\":{\"side\":\"st\",\"scrollOffset\":1}}},{\"slug\":\"about-info\",\"visible\":\"a\",\"states\":[],\"m\":{\"w\":320,\"h\":1029,\"background\":{\"type\":\"color\",\"color\":\"#FFFFFF\"}},\"d\":{\"w\":1200,\"h\":689,\"background\":{\"type\":\"color\",\"color\":\"#FFFFFF\"}}},{\"slug\":\"featured-logos\",\"visible\":\"a\",\"states\":[],\"m\":{\"w\":320,\"h\":477,\"background\":{\"type\":\"color\",\"color\":\"#FFFFFF\"}},\"d\":{\"w\":1200,\"h\":222,\"background\":{\"type\":\"color\",\"color\":\"#FFFFFF\"}}},{\"slug\":\"footer\",\"visible\":\"a\",\"states\":[],\"m\":{\"w\":320,\"h\":73,\"background\":{\"type\":\"color\",\"color\":\"#FFFFFF\"}},\"d\":{\"w\":1200,\"h\":65,\"background\":{\"type\":\"color\",\"color\":\"#FFFFFF\"}}}],\"elementData\":[{\"type\":\"graphic\",\"visible\":\"a\",\"id\":\"logo_0\",\"blockId\":\"logo\",\"m\":{\"x\":48,\"y\":12,\"w\":224,\"h\":75,\"a\":0},\"d\":{\"x\":383.5,\"y\":30.5,\"w\":433,\"h\":144,\"a\":0},\"c\":{\"key\":\"0tR8A7O2S52YgCtCoYdlTQ/64213/gold_png.png\",\"aspect_ratio\":3.00375}},{\"type\":\"icon\",\"visible\":\"a\",\"id\":\"mobile-nav_0\",\"blockId\":\"mobile-nav\",\"m\":{\"x\":142,\"y\":6,\"w\":31,\"h\":36,\"a\":0},\"d\":{\"x\":550,\"y\":-29,\"w\":100,\"h\":100,\"a\":0},\"pc\":[{\"type\":\"show\",\"block\":\"main-menu\"}]},{\"type\":\"icon\",\"visible\":\"m\",\"id\":\"main-menu_0\",\"blockId\":\"main-menu\",\"m\":{\"x\":140,\"y\":419,\"w\":23,\"h\":23,\"a\":0},\"d\":{\"x\":1113,\"y\":430,\"w\":22,\"h\":23,\"a\":0,\"lockH\":\"r\"}},{\"type\":\"icon\",\"visible\":\"m\",\"id\":\"main-menu_1\",\"blockId\":\"main-menu\",\"m\":{\"x\":200,\"y\":418,\"w\":23,\"h\":25,\"a\":0},\"d\":{\"x\":1157,\"y\":429,\"w\":20,\"h\":26,\"a\":0,\"lockH\":\"r\"}},{\"type\":\"icon\",\"visible\":\"m\",\"id\":\"main-menu_2\",\"blockId\":\"main-menu\",\"m\":{\"x\":82,\"y\":417,\"w\":21,\"h\":25,\"a\":0},\"d\":{\"x\":1036,\"y\":423,\"w\":23,\"h\":34,\"a\":0,\"lockH\":\"r\"}},{\"type\":\"graphic\",\"visible\":\"m\",\"id\":\"main-menu_3\",\"blockId\":\"main-menu\",\"m\":{\"x\":113,\"y\":333,\"w\":82,\"h\":54,\"a\":0,\"gs\":{\"t\":\"fit\"}},\"d\":{\"x\":539,\"y\":8,\"w\":122,\"h\":37,\"a\":0},\"c\":{\"key\":\"LwEFAcaNQFO0u9Nk7khoQQ/shared/flora-flowers-1.png\",\"aspect_ratio\":3.29787}},{\"type\":\"text\",\"visible\":\"a\",\"id\":\"main-menu_4\",\"blockId\":\"main-menu\",\"m\":{\"x\":109.5,\"y\":293,\"w\":102,\"h\":17,\"a\":0},\"d\":{\"x\":914,\"y\":16,\"w\":116,\"h\":19,\"a\":0}},{\"type\":\"text\",\"visible\":\"a\",\"id\":\"main-menu_5\",\"blockId\":\"main-menu\",\"m\":{\"x\":109.5,\"y\":255.667,\"w\":102,\"h\":17,\"a\":0},\"d\":{\"x\":818,\"y\":16,\"w\":69,\"h\":19,\"a\":0}},{\"type\":\"text\",\"visible\":\"a\",\"id\":\"main-menu_6\",\"blockId\":\"main-menu\",\"m\":{\"x\":83,\"y\":218.333,\"w\":155,\"h\":17,\"a\":0},\"d\":{\"x\":654,\"y\":16,\"w\":138,\"h\":19,\"a\":0}},{\"type\":\"text\",\"visible\":\"a\",\"id\":\"main-menu_7\",\"blockId\":\"main-menu\",\"m\":{\"x\":109.5,\"y\":181,\"w\":102,\"h\":17,\"a\":0},\"d\":{\"x\":566,\"y\":16,\"w\":61,\"h\":19,\"a\":0}},{\"type\":\"text\",\"visible\":\"a\",\"id\":\"main-menu_8\",\"blockId\":\"main-menu\",\"m\":{\"x\":109.5,\"y\":143.667,\"w\":102,\"h\":17,\"a\":0},\"d\":{\"x\":424,\"y\":16,\"w\":115,\"h\":19,\"a\":0}},{\"type\":\"text\",\"visible\":\"a\",\"id\":\"main-menu_9\",\"blockId\":\"main-menu\",\"m\":{\"x\":94,\"y\":106,\"w\":133,\"h\":17,\"a\":0},\"d\":{\"x\":276,\"y\":16,\"w\":122,\"h\":19,\"a\":0}},{\"type\":\"text\",\"visible\":\"a\",\"id\":\"main-menu_10\",\"blockId\":\"main-menu\",\"m\":{\"x\":109.5,\"y\":69,\"w\":102,\"h\":17,\"a\":0},\"d\":{\"x\":170,\"y\":16,\"w\":79,\"h\":19,\"a\":0}},{\"type\":\"text\",\"visible\":\"m\",\"id\":\"main-menu_11\",\"blockId\":\"main-menu\",\"m\":{\"x\":108.5,\"y\":33,\"w\":102,\"h\":17,\"a\":0},\"d\":{\"x\":166,\"y\":16,\"w\":79,\"h\":19,\"a\":0},\"pc\":[{\"type\":\"hide\",\"block\":\"main-menu\"}]},{\"type\":\"simple\",\"visible\":\"d\",\"id\":\"about-info_0\",\"blockId\":\"about-info\",\"m\":{\"x\":22,\"y\":134,\"w\":279,\"h\":266,\"a\":0},\"d\":{\"x\":815,\"y\":154,\"w\":328,\"h\":480,\"a\":0}},{\"type\":\"graphic\",\"visible\":\"a\",\"id\":\"about-info_1\",\"blockId\":\"about-info\",\"m\":{\"x\":32.5,\"y\":744,\"w\":255,\"h\":255,\"a\":0},\"d\":{\"x\":843,\"y\":178,\"w\":273,\"h\":412,\"a\":0,\"gs\":{\"t\":\"cover\"}},\"c\":{\"key\":\"Jij_hdvaRNqHcdK3fNRAAw/64213/oklahoma-wedding-photographer-springs-edmond-lauren-grigg.jpg\",\"aspect_ratio\":0.66532}},{\"type\":\"simple\",\"visible\":\"a\",\"id\":\"about-info_2\",\"blockId\":\"about-info\",\"m\":{\"x\":56,\"y\":975,\"w\":208,\"h\":45.013,\"a\":0},\"d\":{\"x\":875,\"y\":571,\"w\":208,\"h\":38,\"a\":0}},{\"type\":\"text\",\"visible\":\"a\",\"id\":\"about-info_3\",\"blockId\":\"about-info\",\"m\":{\"x\":67,\"y\":985,\"w\":186,\"h\":26,\"a\":0},\"d\":{\"x\":886,\"y\":580,\"w\":189,\"h\":24,\"a\":0}},{\"type\":\"simple\",\"visible\":\"d\",\"id\":\"about-info_4\",\"blockId\":\"about-info\",\"m\":{\"x\":22,\"y\":134,\"w\":279,\"h\":266,\"a\":0},\"d\":{\"x\":432,\"y\":156,\"w\":328,\"h\":480,\"a\":0}},{\"type\":\"graphic\",\"visible\":\"a\",\"id\":\"about-info_5\",\"blockId\":\"about-info\",\"m\":{\"x\":32.5,\"y\":444,\"w\":255,\"h\":255,\"a\":0},\"d\":{\"x\":460,\"y\":180,\"w\":273,\"h\":412,\"a\":0,\"gs\":{\"t\":\"cover\"}},\"c\":{\"key\":\"QYfnP1x_Rh6--MLHjn3C6Q/64213/phelps-phelps-0053.jpg\",\"aspect_ratio\":0.66675}},{\"type\":\"simple\",\"visible\":\"a\",\"id\":\"about-info_6\",\"blockId\":\"about-info\",\"m\":{\"x\":56,\"y\":675,\"w\":208,\"h\":45.013,\"a\":0},\"d\":{\"x\":492,\"y\":573,\"w\":208,\"h\":38,\"a\":0}},{\"type\":\"text\",\"visible\":\"a\",\"id\":\"about-info_7\",\"blockId\":\"about-info\",\"m\":{\"x\":67,\"y\":685,\"w\":186,\"h\":26,\"a\":0},\"d\":{\"x\":505,\"y\":582,\"w\":189,\"h\":24,\"a\":0}},{\"type\":\"simple\",\"visible\":\"d\",\"id\":\"about-info_8\",\"blockId\":\"about-info\",\"m\":{\"x\":22,\"y\":134,\"w\":279,\"h\":266,\"a\":0},\"d\":{\"x\":52,\"y\":157,\"w\":328,\"h\":480,\"a\":0}},{\"type\":\"graphic\",\"visible\":\"a\",\"id\":\"about-info_9\",\"blockId\":\"about-info\",\"m\":{\"x\":32.5,\"y\":144,\"w\":255,\"h\":255,\"a\":0},\"d\":{\"x\":80,\"y\":181,\"w\":273,\"h\":412,\"a\":0,\"gs\":{\"t\":\"cover\"}},\"c\":{\"key\":\"2fymSsr1SLSdlJOV4cfM8g/64213/kristin_rother_okarche_senior_2017-kristin_rother-0028.jpg\",\"aspect_ratio\":0.6665}},{\"type\":\"simple\",\"visible\":\"a\",\"id\":\"about-info_10\",\"blockId\":\"about-info\",\"m\":{\"x\":56,\"y\":375,\"w\":208,\"h\":45.013,\"a\":0},\"d\":{\"x\":107,\"y\":574,\"w\":218,\"h\":38,\"a\":0}},{\"type\":\"text\",\"visible\":\"a\",\"id\":\"about-info_11\",\"blockId\":\"about-info\",\"m\":{\"x\":71,\"y\":385,\"w\":186,\"h\":26,\"a\":0},\"d\":{\"x\":116,\"y\":583,\"w\":200,\"h\":24,\"a\":0}},{\"type\":\"text\",\"visible\":\"a\",\"id\":\"about-info_12\",\"blockId\":\"about-info\",\"m\":{\"x\":46.497,\"y\":58,\"w\":227.006,\"h\":53,\"a\":0},\"d\":{\"x\":400.497,\"y\":76,\"w\":399.006,\"h\":32,\"a\":0}},{\"type\":\"text\",\"visible\":\"a\",\"id\":\"featured-logos_0\",\"blockId\":\"featured-logos\",\"m\":{\"x\":55,\"y\":31,\"w\":211,\"h\":33,\"a\":0},\"d\":{\"x\":68,\"y\":95,\"w\":153,\"h\":31,\"a\":0}},{\"type\":\"graphic\",\"visible\":\"a\",\"id\":\"featured-logos_1\",\"blockId\":\"featured-logos\",\"m\":{\"x\":18,\"y\":81,\"w\":284,\"h\":69,\"a\":0},\"d\":{\"x\":535,\"y\":72,\"w\":321,\"h\":78,\"a\":0},\"pc\":[{\"type\":\"show\"}],\"c\":{\"key\":\"li4LQX6zSSWpqyLR6-RSkQ/64213/littlebellows.jpg\",\"aspect_ratio\":4.125}},{\"type\":\"graphic\",\"visible\":\"a\",\"id\":\"featured-logos_2\",\"blockId\":\"featured-logos\",\"m\":{\"x\":99,\"y\":179,\"w\":119,\"h\":115,\"a\":0},\"d\":{\"x\":298,\"y\":30,\"w\":161,\"h\":161,\"a\":0},\"c\":{\"key\":\"IxW20YTeStOy72Dz_sAcjw/64213/fount_badge.png\",\"aspect_ratio\":1}},{\"type\":\"graphic\",\"visible\":\"a\",\"id\":\"featured-logos_3\",\"blockId\":\"featured-logos\",\"m\":{\"x\":80,\"y\":323,\"w\":163,\"h\":139,\"a\":0},\"d\":{\"x\":933,\"y\":33,\"w\":155,\"h\":155,\"a\":0},\"c\":{\"key\":\"Fn9Z_UrjQyG_x0VXTDazxA/64213/bridesofok.jpg\",\"aspect_ratio\":1}},{\"type\":\"icon\",\"visible\":\"a\",\"id\":\"footer_0\",\"blockId\":\"footer\",\"m\":{\"x\":187,\"y\":21,\"w\":23,\"h\":25,\"a\":0},\"d\":{\"x\":1162,\"y\":20,\"w\":23,\"h\":26,\"a\":0,\"lockH\":\"r\"}},{\"type\":\"icon\",\"visible\":\"a\",\"id\":\"footer_1\",\"blockId\":\"footer\",\"m\":{\"x\":148,\"y\":22,\"w\":23,\"h\":23,\"a\":0},\"d\":{\"x\":1118,\"y\":22,\"w\":23,\"h\":23,\"a\":0,\"lockH\":\"r\"}},{\"type\":\"icon\",\"visible\":\"a\",\"id\":\"footer_2\",\"blockId\":\"footer\",\"m\":{\"x\":111,\"y\":21,\"w\":21,\"h\":25,\"a\":0},\"d\":{\"x\":1082,\"y\":16,\"w\":23,\"h\":34,\"a\":0,\"lockH\":\"r\"}},{\"type\":\"text\",\"visible\":\"a\",\"id\":\"footer_3\",\"blockId\":\"footer\",\"m\":{\"x\":61,\"y\":601,\"w\":188,\"h\":17,\"a\":0},\"d\":{\"x\":21,\"y\":22,\"w\":302,\"h\":22,\"a\":0,\"lockH\":\"l\"}},{\"type\":\"simple\",\"visible\":\"a\",\"id\":\"footer_4\",\"blockId\":\"footer\",\"m\":{\"x\":-10,\"y\":0,\"w\":333,\"h\":1,\"a\":0},\"d\":{\"x\":-11,\"y\":-1,\"w\":1225,\"h\":1,\"a\":0,\"lockH\":\"s\"}}]}', 'laurenHOMExBride', '@_lauren_grigg_']\n"
     ]
    }
   ],
   "source": [
    "print(get_info('lauren grigg', 5))"
   ]
  },
  {
   "cell_type": "code",
   "execution_count": null,
   "metadata": {
    "collapsed": true
   },
   "outputs": [],
   "source": []
  },
  {
   "cell_type": "code",
   "execution_count": null,
   "metadata": {
    "collapsed": true
   },
   "outputs": [],
   "source": []
  }
 ],
 "metadata": {
  "kernelspec": {
   "display_name": "Python 3",
   "language": "python",
   "name": "python3"
  },
  "language_info": {
   "codemirror_mode": {
    "name": "ipython",
    "version": 3
   },
   "file_extension": ".py",
   "mimetype": "text/x-python",
   "name": "python",
   "nbconvert_exporter": "python",
   "pygments_lexer": "ipython3",
   "version": "3.6.2"
  }
 },
 "nbformat": 4,
 "nbformat_minor": 2
}
